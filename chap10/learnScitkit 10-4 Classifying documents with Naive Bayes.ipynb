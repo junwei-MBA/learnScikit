{
 "cells": [
  {
   "cell_type": "code",
   "execution_count": 2,
   "id": "e0e6841d",
   "metadata": {},
   "outputs": [
    {
     "name": "stdout",
     "output_type": "stream",
     "text": [
      "From: gregl@zimmer.CSUFresno.EDU (Greg Lewis)\n",
      "Subject: Re: WARNING.....(please read)...\n",
      "Keywords: BRICK, TRUCK, DANGER\n",
      "Nntp-Posting-Host: zimmer.csufresno.edu\n",
      "Organization: CSU Fresno\n",
      "Lines: 33\n",
      "\n",
      "In article <1qh336INNfl5@CS.UTK.EDU> larose@austin.cs.utk.edu (Brian LaRose) writes:\n",
      ">This just a warning to EVERYBODY on the net.  Watch out for\n",
      ">folks standing NEXT to the road or on overpasses.   They can\n",
      ">cause SERIOUS HARM to you and your car.  \n",
      ">\n",
      ">(just a cliff-notes version of my story follows)\n",
      ">\n",
      ">10pm last night, I was travelling on the interstate here in\n",
      ">knoxville,  I was taking an offramp exit to another interstate\n",
      ">and my wife suddenly screamed and something LARGE hit the side\n",
      ">of my truck.  We slowed down, but after looking back to see the\n",
      ">vandals standing there, we drove on to the police station.\n",
      ">\n",
      ">She did get a good look at the guy and saw him \"cock his arm\" with\n",
      ">something the size of a cinderblock, BUT I never saw him. We are \n",
      ">VERY lucky the truck sits up high on the road; if it would have hit\n",
      ">her window, it would have killed her. \n",
      ">\n",
      ">The police are looking for the guy, but in all likelyhood he is gone. \n",
      "Stuff deleted...\n",
      "\n",
      "I am sorry to report that in Southern California it was a sick sport\n",
      "for a while to drop concrete blocks from the overpasses onto the\n",
      "freeway.  Several persons were killed when said blocks came through\n",
      "their windshields.  Many overpass bridges are now fenced, and they\n",
      "have made it illegal to loiter on such bridges (as if that would stop\n",
      "such people).  Yet many bridges are NOT fenced.  I always look up at a\n",
      "bridge while I still have time to take evasive action even though this\n",
      "*sport* has not reached us here in Fresno.\n",
      "___________________________________________________________________\n",
      "Greg_Lewis@csufresno.edu\n",
      "Photojournalism sequence, Department of Journalism\n",
      "CSU Fresno, Fresno, CA 93740\n",
      "\n"
     ]
    }
   ],
   "source": [
    "import numpy as np\n",
    "from sklearn.datasets import fetch_20newsgroups\n",
    "categories = [\"rec.autos\", \"rec.motorcycles\"]\n",
    "newgroups = fetch_20newsgroups(categories=categories)\n",
    "#take a look\n",
    "print (\"\\n\".join(newgroups.data[:1]))"
   ]
  },
  {
   "cell_type": "code",
   "execution_count": 3,
   "id": "724ae773",
   "metadata": {},
   "outputs": [],
   "source": [
    "from sklearn.feature_extraction.text import CountVectorizer\n",
    "count_vec = CountVectorizer()\n",
    "bow = count_vec.fit_transform(newgroups.data)"
   ]
  },
  {
   "cell_type": "code",
   "execution_count": 16,
   "id": "b4fceef5",
   "metadata": {},
   "outputs": [
    {
     "data": {
      "text/plain": [
       "['From: gregl@zimmer.CSUFresno.EDU (Greg Lewis)\\nSubject: Re: WARNING.....(please read)...\\nKeywords: BRICK, TRUCK, DANGER\\nNntp-Posting-Host: zimmer.csufresno.edu\\nOrganization: CSU Fresno\\nLines: 33\\n\\nIn article <1qh336INNfl5@CS.UTK.EDU> larose@austin.cs.utk.edu (Brian LaRose) writes:\\n>This just a warning to EVERYBODY on the net.  Watch out for\\n>folks standing NEXT to the road or on overpasses.   They can\\n>cause SERIOUS HARM to you and your car.  \\n>\\n>(just a cliff-notes version of my story follows)\\n>\\n>10pm last night, I was travelling on the interstate here in\\n>knoxville,  I was taking an offramp exit to another interstate\\n>and my wife suddenly screamed and something LARGE hit the side\\n>of my truck.  We slowed down, but after looking back to see the\\n>vandals standing there, we drove on to the police station.\\n>\\n>She did get a good look at the guy and saw him \"cock his arm\" with\\n>something the size of a cinderblock, BUT I never saw him. We are \\n>VERY lucky the truck sits up high on the road; if it would have hit\\n>her window, it would have killed her. \\n>\\n>The police are looking for the guy, but in all likelyhood he is gone. \\nStuff deleted...\\n\\nI am sorry to report that in Southern California it was a sick sport\\nfor a while to drop concrete blocks from the overpasses onto the\\nfreeway.  Several persons were killed when said blocks came through\\ntheir windshields.  Many overpass bridges are now fenced, and they\\nhave made it illegal to loiter on such bridges (as if that would stop\\nsuch people).  Yet many bridges are NOT fenced.  I always look up at a\\nbridge while I still have time to take evasive action even though this\\n*sport* has not reached us here in Fresno.\\n___________________________________________________________________\\nGreg_Lewis@csufresno.edu\\nPhotojournalism sequence, Department of Journalism\\nCSU Fresno, Fresno, CA 93740\\n']"
      ]
     },
     "execution_count": 16,
     "metadata": {},
     "output_type": "execute_result"
    }
   ],
   "source": [
    "newgroups.data[:1]"
   ]
  },
  {
   "cell_type": "code",
   "execution_count": 4,
   "id": "63df0408",
   "metadata": {},
   "outputs": [
    {
     "data": {
      "text/plain": [
       "<1192x19177 sparse matrix of type '<class 'numpy.int64'>'\n",
       "\twith 164296 stored elements in Compressed Sparse Row format>"
      ]
     },
     "execution_count": 4,
     "metadata": {},
     "output_type": "execute_result"
    }
   ],
   "source": [
    "bow"
   ]
  },
  {
   "cell_type": "code",
   "execution_count": 5,
   "id": "2c7c7fc1",
   "metadata": {},
   "outputs": [],
   "source": [
    "bow = np.array(bow.todense())"
   ]
  },
  {
   "cell_type": "code",
   "execution_count": 6,
   "id": "a476418b",
   "metadata": {},
   "outputs": [
    {
     "data": {
      "text/plain": [
       "array([[0, 0, 0, ..., 0, 0, 0],\n",
       "       [0, 0, 0, ..., 0, 0, 0],\n",
       "       [0, 0, 0, ..., 0, 0, 0],\n",
       "       ...,\n",
       "       [0, 0, 0, ..., 0, 0, 0],\n",
       "       [0, 1, 0, ..., 0, 0, 0],\n",
       "       [0, 0, 0, ..., 0, 0, 0]])"
      ]
     },
     "execution_count": 6,
     "metadata": {},
     "output_type": "execute_result"
    }
   ],
   "source": [
    "bow"
   ]
  },
  {
   "cell_type": "code",
   "execution_count": 7,
   "id": "af5dbf19",
   "metadata": {},
   "outputs": [
    {
     "data": {
      "text/plain": [
       "array(['10pm', '1qh336innfl5', '33', '93740',\n",
       "       '___________________________________________________________________'],\n",
       "      dtype='<U79')"
      ]
     },
     "execution_count": 7,
     "metadata": {},
     "output_type": "execute_result"
    }
   ],
   "source": [
    "words = np.array(count_vec.get_feature_names())\n",
    "words[bow[0] > 0][:5]\n"
   ]
  },
  {
   "cell_type": "code",
   "execution_count": 17,
   "id": "7b137319",
   "metadata": {},
   "outputs": [
    {
     "data": {
      "text/plain": [
       "'from: gregl@zimmer.csufresno.edu (greg lewis)\\nsubject: re: warning.....(please read)...\\nkeywords: brick, truck, danger\\nnntp-posting-host: zimmer.csufresno.edu\\norganization: csu fresno\\nlines: 33\\n\\nin article <1qh336innfl5@cs.utk.edu> larose@austin.cs.utk.edu (brian larose) writes:\\n>this just a warning to everybody on the net.  watch out for\\n>folks standing next to the road or on overpasses.   they can\\n>cause serious harm to you and your car.  \\n>\\n>(just a cliff-notes version of my story follows)\\n>\\n>10pm last night, i was travelling on the interstate here in\\n>knoxville,  i was taking an offramp exit to another interstate\\n>and my wife suddenly screamed and something large hit the side\\n>of my truck.  we slowed down, but after looking back to see the\\n>vandals standing there, we drove on to the police station.\\n>\\n>she did get a good look at the guy and saw him \"cock his arm\" with\\n>something the size of a cinderblock, but i never saw him. we are \\n>very lucky the truck sits up high on the road; if it would have hit\\n>her window, it would have killed her. \\n>\\n>the police are looking for the guy, but in all likelyhood he is gone. \\nstuff deleted...\\n\\ni am sorry to report that in southern california it was a sick sport\\nfor a while to drop concrete blocks from the overpasses onto the\\nfreeway.  several persons were killed when said blocks came through\\ntheir windshields.  many overpass bridges are now fenced, and they\\nhave made it illegal to loiter on such bridges (as if that would stop\\nsuch people).  yet many bridges are not fenced.  i always look up at a\\nbridge while i still have time to take evasive action even though this\\n*sport* has not reached us here in fresno.\\n___________________________________________________________________\\ngreg_lewis@csufresno.edu\\nphotojournalism sequence, department of journalism\\ncsu fresno, fresno, ca 93740\\n'"
      ]
     },
     "execution_count": 17,
     "metadata": {},
     "output_type": "execute_result"
    }
   ],
   "source": [
    "newgroups.data[0].lower()"
   ]
  },
  {
   "cell_type": "code",
   "execution_count": 9,
   "id": "5581517c",
   "metadata": {},
   "outputs": [
    {
     "data": {
      "text/plain": [
       "True"
      ]
     },
     "execution_count": 9,
     "metadata": {},
     "output_type": "execute_result"
    }
   ],
   "source": [
    "'1qh336innfl5' in newgroups.data[0].lower()"
   ]
  },
  {
   "cell_type": "code",
   "execution_count": 12,
   "id": "4b9272d6",
   "metadata": {},
   "outputs": [],
   "source": [
    "from sklearn import naive_bayes\n"
   ]
  },
  {
   "cell_type": "code",
   "execution_count": 13,
   "id": "0fa65db5",
   "metadata": {},
   "outputs": [],
   "source": [
    "X = bow\n",
    "y = newgroups.target\n",
    "from sklearn.model_selection import train_test_split\n",
    "X_train, X_test, y_train, y_test = train_test_split(X, y, test_size= 0.5,stratify=y)\n",
    "clf = naive_bayes.GaussianNB().fit(X_train, y_train)"
   ]
  },
  {
   "cell_type": "code",
   "execution_count": 14,
   "id": "8ca42e6d",
   "metadata": {},
   "outputs": [
    {
     "data": {
      "text/plain": [
       "0.9312080536912751"
      ]
     },
     "execution_count": 14,
     "metadata": {},
     "output_type": "execute_result"
    }
   ],
   "source": [
    "from sklearn.metrics import accuracy_score\n",
    "accuracy_score(y_test,clf.predict(X_test) )"
   ]
  },
  {
   "cell_type": "code",
   "execution_count": 21,
   "id": "38ad3076",
   "metadata": {},
   "outputs": [],
   "source": [
    "from sklearn.datasets import fetch_20newsgroups\n",
    "mn_categories = [\"rec.autos\", \"rec.motorcycles\", \"talk.politics.guns\"]\n",
    "mn_newgroups = fetch_20newsgroups(categories=mn_categories)"
   ]
  },
  {
   "cell_type": "code",
   "execution_count": 22,
   "id": "dfd62327",
   "metadata": {},
   "outputs": [],
   "source": [
    "mn_bow = count_vec.fit_transform(mn_newgroups.data)\n",
    "mn_bow = np.array(mn_bow.todense())"
   ]
  },
  {
   "cell_type": "code",
   "execution_count": 24,
   "id": "af434845",
   "metadata": {},
   "outputs": [],
   "source": [
    "X = mn_bow\n",
    "y = mn_newgroups.target\n",
    "from sklearn.model_selection import train_test_split\n",
    "X_train, X_test, y_train, y_test = train_test_split(X, y, test_size =0.5,stratify=y)\n",
    "from sklearn.naive_bayes import MultinomialNB\n",
    "clf = MultinomialNB().fit(X_train, y_train)"
   ]
  },
  {
   "cell_type": "code",
   "execution_count": 25,
   "id": "82e0930b",
   "metadata": {},
   "outputs": [
    {
     "data": {
      "text/plain": [
       "0.9643268124280783"
      ]
     },
     "execution_count": 25,
     "metadata": {},
     "output_type": "execute_result"
    }
   ],
   "source": [
    "from sklearn.metrics import accuracy_score\n",
    "accuracy_score(y_test,clf.predict(X_test))"
   ]
  },
  {
   "cell_type": "code",
   "execution_count": null,
   "id": "829a99d3",
   "metadata": {},
   "outputs": [],
   "source": []
  }
 ],
 "metadata": {
  "kernelspec": {
   "display_name": "Python 3 (ipykernel)",
   "language": "python",
   "name": "python3"
  },
  "language_info": {
   "codemirror_mode": {
    "name": "ipython",
    "version": 3
   },
   "file_extension": ".py",
   "mimetype": "text/x-python",
   "name": "python",
   "nbconvert_exporter": "python",
   "pygments_lexer": "ipython3",
   "version": "3.8.12"
  }
 },
 "nbformat": 4,
 "nbformat_minor": 5
}
