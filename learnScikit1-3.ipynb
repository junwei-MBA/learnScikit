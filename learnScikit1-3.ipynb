{
 "cells": [
  {
   "cell_type": "code",
   "execution_count": 1,
   "id": "73565aaa",
   "metadata": {},
   "outputs": [],
   "source": [
    "import numpy as np\n",
    "import pandas as pd\n",
    "from sklearn import datasets\n",
    "iris = datasets.load_iris()\n",
    "X = iris.data[iris.target < 2]\n",
    "y = iris.target[iris.target < 2]\n"
   ]
  },
  {
   "cell_type": "code",
   "execution_count": 2,
   "id": "91bb3115",
   "metadata": {},
   "outputs": [],
   "source": [
    "from sklearn.model_selection import train_test_split\n",
    "from sklearn.metrics import accuracy_score\n",
    "X_train, X_test, y_train, y_test = train_test_split(X, y,stratify=y, random_state= 7)"
   ]
  },
  {
   "cell_type": "code",
   "execution_count": 3,
   "id": "c15be61d",
   "metadata": {},
   "outputs": [],
   "source": [
    "from sklearn.svm import SVC\n",
    "from sklearn.model_selection import cross_val_score\n",
    "svc_clf = SVC(kernel = 'linear').fit(X_train, y_train)\n",
    "svc_scores = cross_val_score(svc_clf, X_train, y_train, cv=4)"
   ]
  },
  {
   "cell_type": "code",
   "execution_count": 4,
   "id": "0f343a9f",
   "metadata": {},
   "outputs": [
    {
     "data": {
      "text/plain": [
       "1.0"
      ]
     },
     "execution_count": 4,
     "metadata": {},
     "output_type": "execute_result"
    }
   ],
   "source": [
    "svc_scores.mean()"
   ]
  },
  {
   "cell_type": "code",
   "execution_count": 5,
   "id": "8750c41f",
   "metadata": {},
   "outputs": [],
   "source": [
    "from sklearn.svm import SVR"
   ]
  },
  {
   "cell_type": "code",
   "execution_count": 6,
   "id": "010a3cc9",
   "metadata": {},
   "outputs": [],
   "source": [
    "svr_clf = SVR(kernel = 'linear').fit(X_train, y_train)"
   ]
  },
  {
   "cell_type": "code",
   "execution_count": 7,
   "id": "d76636b2",
   "metadata": {},
   "outputs": [],
   "source": [
    "from sklearn.metrics import make_scorer"
   ]
  },
  {
   "cell_type": "code",
   "execution_count": 8,
   "id": "9b033c04",
   "metadata": {},
   "outputs": [],
   "source": [
    "#Only works for this iris example with targets 0 and 1\n",
    "def for_scorer(y_test, orig_y_pred):\n",
    "    y_pred = np.rint(orig_y_pred).astype(np.int)   #rounds prediction to the nearest integer\n",
    "    return accuracy_score(y_test, y_pred)"
   ]
  },
  {
   "cell_type": "code",
   "execution_count": 10,
   "id": "5e497f81",
   "metadata": {},
   "outputs": [],
   "source": [
    "svr_to_class_scorer = make_scorer(for_scorer,greater_is_better=True)\n",
    "svr_scores = cross_val_score(svr_clf, X_train, y_train, cv=4,scoring = svr_to_class_scorer)"
   ]
  },
  {
   "cell_type": "code",
   "execution_count": 11,
   "id": "5639ff7f",
   "metadata": {},
   "outputs": [
    {
     "data": {
      "text/plain": [
       "1.0"
      ]
     },
     "execution_count": 11,
     "metadata": {},
     "output_type": "execute_result"
    }
   ],
   "source": [
    "svr_scores.mean()"
   ]
  },
  {
   "cell_type": "code",
   "execution_count": null,
   "id": "05cf1faa",
   "metadata": {},
   "outputs": [],
   "source": []
  }
 ],
 "metadata": {
  "kernelspec": {
   "display_name": "Python 3",
   "language": "python",
   "name": "python3"
  },
  "language_info": {
   "codemirror_mode": {
    "name": "ipython",
    "version": 3
   },
   "file_extension": ".py",
   "mimetype": "text/x-python",
   "name": "python",
   "nbconvert_exporter": "python",
   "pygments_lexer": "ipython3",
   "version": "3.6.8"
  }
 },
 "nbformat": 4,
 "nbformat_minor": 5
}
