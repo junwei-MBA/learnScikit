{
 "cells": [
  {
   "cell_type": "code",
   "execution_count": 1,
   "id": "c39461f5",
   "metadata": {},
   "outputs": [],
   "source": [
    "#load the libraries we have been using\n",
    "import numpy as np\n",
    "import pandas as pd\n",
    "import matplotlib.pyplot as plt\n",
    "from sklearn import datasets\n",
    "diabetes = datasets.load_diabetes()\n",
    "X = diabetes.data\n",
    "y = diabetes.target\n"
   ]
  },
  {
   "cell_type": "code",
   "execution_count": 2,
   "id": "abcf2c0e",
   "metadata": {},
   "outputs": [],
   "source": [
    "from sklearn.model_selection import train_test_split\n",
    "X_train, X_test, y_train, y_test = train_test_split(X, y, test_size=0.2,\n",
    "random_state=7)\n"
   ]
  },
  {
   "cell_type": "code",
   "execution_count": 3,
   "id": "583460d2",
   "metadata": {},
   "outputs": [],
   "source": [
    "from sklearn.svm import SVR\n",
    "from sklearn.pipeline import Pipeline\n",
    "from sklearn.preprocessing import StandardScaler\n",
    "from sklearn.multiclass import OneVsRestClassifier\n",
    "svm_est =Pipeline([('scaler',StandardScaler()),('svc',OneVsRestClassifier(SVR()))])"
   ]
  },
  {
   "cell_type": "code",
   "execution_count": 4,
   "id": "dc863586",
   "metadata": {},
   "outputs": [],
   "source": [
    "Cs = [0.001, 0.01, 0.1, 1]\n",
    "gammas = [0.001, 0.01, 0.1]\n",
    "param_grid = dict(svc__estimator__gamma=gammas,svc__estimator__C=Cs)"
   ]
  },
  {
   "cell_type": "code",
   "execution_count": 5,
   "id": "e01bdda4",
   "metadata": {},
   "outputs": [
    {
     "name": "stderr",
     "output_type": "stream",
     "text": [
      "/Users/junwei1/opt/anaconda3/envs/mlfinlab/lib/python3.8/site-packages/sklearn/model_selection/_split.py:666: UserWarning: The least populated class in y has only 1 members, which is less than n_splits=5.\n",
      "  warnings.warn((\"The least populated class in y has only %d\"\n"
     ]
    },
    {
     "data": {
      "text/plain": [
       "RandomizedSearchCV(cv=5,\n",
       "                   estimator=Pipeline(steps=[('scaler', StandardScaler()),\n",
       "                                             ('svc',\n",
       "                                              OneVsRestClassifier(estimator=SVR()))]),\n",
       "                   n_iter=5,\n",
       "                   param_distributions={'svc__estimator__C': [0.001, 0.01, 0.1,\n",
       "                                                              1],\n",
       "                                        'svc__estimator__gamma': [0.001, 0.01,\n",
       "                                                                  0.1]},\n",
       "                   scoring='neg_mean_absolute_error')"
      ]
     },
     "execution_count": 5,
     "metadata": {},
     "output_type": "execute_result"
    }
   ],
   "source": [
    "from sklearn.model_selection import RandomizedSearchCV\n",
    "from sklearn.model_selection import StratifiedShuffleSplit\n",
    "rand_grid = RandomizedSearchCV(svm_est,\n",
    "param_distributions=param_grid,\n",
    "cv=5,n_iter=5,scoring='neg_mean_absolute_error')\n",
    "rand_grid.fit(X_train, y_train)"
   ]
  },
  {
   "cell_type": "code",
   "execution_count": 6,
   "id": "4c7bbd1d",
   "metadata": {},
   "outputs": [
    {
     "data": {
      "text/plain": [
       "{'svc__estimator__gamma': 0.1, 'svc__estimator__C': 0.1}"
      ]
     },
     "execution_count": 6,
     "metadata": {},
     "output_type": "execute_result"
    }
   ],
   "source": [
    "rand_grid.best_params_"
   ]
  },
  {
   "cell_type": "code",
   "execution_count": 7,
   "id": "411336f8",
   "metadata": {},
   "outputs": [
    {
     "data": {
      "text/plain": [
       "-59.504788732394374"
      ]
     },
     "execution_count": 7,
     "metadata": {},
     "output_type": "execute_result"
    }
   ],
   "source": [
    "rand_grid.best_score_"
   ]
  },
  {
   "cell_type": "code",
   "execution_count": null,
   "id": "c08392e7",
   "metadata": {},
   "outputs": [],
   "source": []
  }
 ],
 "metadata": {
  "kernelspec": {
   "display_name": "Python 3 (ipykernel)",
   "language": "python",
   "name": "python3"
  },
  "language_info": {
   "codemirror_mode": {
    "name": "ipython",
    "version": 3
   },
   "file_extension": ".py",
   "mimetype": "text/x-python",
   "name": "python",
   "nbconvert_exporter": "python",
   "pygments_lexer": "ipython3",
   "version": "3.8.12"
  }
 },
 "nbformat": 4,
 "nbformat_minor": 5
}
