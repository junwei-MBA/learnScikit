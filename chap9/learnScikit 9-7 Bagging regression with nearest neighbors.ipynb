{
 "cells": [
  {
   "cell_type": "code",
   "execution_count": 2,
   "id": "e2cbefef",
   "metadata": {},
   "outputs": [],
   "source": [
    "import numpy as np\n",
    "import pandas as pd\n",
    "from sklearn.datasets import load_diabetes\n",
    "diabetes = load_diabetes()\n",
    "X = diabetes.data\n",
    "y = diabetes.target\n",
    "X_feature_names = ['age', 'gender', 'body mass index', 'average blood pressure','bl_0','bl_1','bl_2','bl_3','bl_4','bl_5']\n",
    "#bin target variable for better sampling\n",
    "bins = 50*np.arange(8)\n",
    "binned_y = np.digitize(y, bins)\n",
    "from sklearn.model_selection import train_test_split\n",
    "X_train, X_test, y_train, y_test = train_test_split(X, y, test_size=0.2,stratify=binned_y)"
   ]
  },
  {
   "cell_type": "code",
   "execution_count": 3,
   "id": "86d8288e",
   "metadata": {},
   "outputs": [],
   "source": [
    "from sklearn.ensemble import BaggingRegressor\n",
    "from sklearn.neighbors import KNeighborsRegressor\n",
    "from sklearn.model_selection import RandomizedSearchCV"
   ]
  },
  {
   "cell_type": "code",
   "execution_count": 4,
   "id": "bf08df66",
   "metadata": {},
   "outputs": [],
   "source": [
    " param_dist = {\n",
    " 'max_samples': [0.5,1.0],\n",
    " 'max_features' : [0.5,1.0],\n",
    " 'oob_score' : [True, False],\n",
    " 'base_estimator__n_neighbors': [3,5],\n",
    " 'n_estimators': [100]\n",
    " }"
   ]
  },
  {
   "cell_type": "code",
   "execution_count": 5,
   "id": "8ca5aa56",
   "metadata": {},
   "outputs": [],
   "source": [
    "single_estimator = KNeighborsRegressor()\n",
    "ensemble_estimator = BaggingRegressor(base_estimator = single_estimator)"
   ]
  },
  {
   "cell_type": "code",
   "execution_count": 6,
   "id": "4110024b",
   "metadata": {},
   "outputs": [
    {
     "data": {
      "text/plain": [
       "RandomizedSearchCV(cv=3,\n",
       "                   estimator=BaggingRegressor(base_estimator=KNeighborsRegressor()),\n",
       "                   n_iter=5, n_jobs=-1,\n",
       "                   param_distributions={'base_estimator__n_neighbors': [3, 5],\n",
       "                                        'max_features': [0.5, 1.0],\n",
       "                                        'max_samples': [0.5, 1.0],\n",
       "                                        'n_estimators': [100],\n",
       "                                        'oob_score': [True, False]})"
      ]
     },
     "execution_count": 6,
     "metadata": {},
     "output_type": "execute_result"
    }
   ],
   "source": [
    "pre_gs_inst_bag = RandomizedSearchCV(ensemble_estimator,\n",
    "    param_distributions = param_dist,\n",
    "    cv=3,\n",
    "    n_iter = 5,\n",
    "    n_jobs=-1)\n",
    "pre_gs_inst_bag.fit(X_train, y_train)"
   ]
  },
  {
   "cell_type": "code",
   "execution_count": 7,
   "id": "5293f925",
   "metadata": {},
   "outputs": [
    {
     "data": {
      "text/plain": [
       "{'oob_score': True,\n",
       " 'n_estimators': 100,\n",
       " 'max_samples': 1.0,\n",
       " 'max_features': 0.5,\n",
       " 'base_estimator__n_neighbors': 3}"
      ]
     },
     "execution_count": 7,
     "metadata": {},
     "output_type": "execute_result"
    }
   ],
   "source": [
    "pre_gs_inst_bag.best_params_"
   ]
  },
  {
   "cell_type": "code",
   "execution_count": 8,
   "id": "872247ee",
   "metadata": {},
   "outputs": [
    {
     "data": {
      "text/plain": [
       "BaggingRegressor(base_estimator=KNeighborsRegressor(), max_samples=0.5,\n",
       "                 n_estimators=1000, oob_score=True)"
      ]
     },
     "execution_count": 8,
     "metadata": {},
     "output_type": "execute_result"
    }
   ],
   "source": [
    "rs_bag = BaggingRegressor(**{'max_features': 1.0,\n",
    "    'max_samples': 0.5,\n",
    "    'n_estimators': 1000,\n",
    "    'oob_score': True,\n",
    "    'base_estimator': KNeighborsRegressor(n_neighbors=5)})\n",
    "rs_bag.fit(X_train, y_train)"
   ]
  },
  {
   "cell_type": "code",
   "execution_count": 9,
   "id": "dbc930f3",
   "metadata": {},
   "outputs": [
    {
     "name": "stdout",
     "output_type": "stream",
     "text": [
      "R-squared 0.44859494916718257\n",
      "MAE :  45.777950561797745\n",
      "MAPE :  0.45537247650359397\n"
     ]
    }
   ],
   "source": [
    "y_pred = rs_bag.predict(X_test)\n",
    "from sklearn.metrics import r2_score, mean_absolute_error\n",
    "print (\"R-squared\",r2_score(y_test, y_pred))\n",
    "print (\"MAE : \",mean_absolute_error(y_test, y_pred))\n",
    "print (\"MAPE : \",(np.abs(y_test - y_pred)/y_test).mean())"
   ]
  },
  {
   "cell_type": "code",
   "execution_count": null,
   "id": "70e3b9e8",
   "metadata": {},
   "outputs": [],
   "source": []
  }
 ],
 "metadata": {
  "kernelspec": {
   "display_name": "Python 3 (ipykernel)",
   "language": "python",
   "name": "python3"
  },
  "language_info": {
   "codemirror_mode": {
    "name": "ipython",
    "version": 3
   },
   "file_extension": ".py",
   "mimetype": "text/x-python",
   "name": "python",
   "nbconvert_exporter": "python",
   "pygments_lexer": "ipython3",
   "version": "3.8.12"
  }
 },
 "nbformat": 4,
 "nbformat_minor": 5
}
