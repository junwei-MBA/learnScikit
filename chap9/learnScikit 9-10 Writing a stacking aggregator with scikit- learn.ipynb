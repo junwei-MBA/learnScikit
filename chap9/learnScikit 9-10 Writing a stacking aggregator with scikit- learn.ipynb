{
 "cells": [
  {
   "cell_type": "code",
   "execution_count": 3,
   "id": "b9ea0e33",
   "metadata": {},
   "outputs": [],
   "source": [
    "%matplotlib inline\n",
    "import numpy as np\n",
    "import pandas as pd\n",
    "import matplotlib.pyplot as plt\n",
    "from sklearn.datasets import fetch_california_housing\n",
    "cali_housing = fetch_california_housing()\n",
    "X = cali_housing.data\n",
    "y = cali_housing.target\n",
    "bins = np.arange(6)\n",
    "from __future__ import division\n",
    "from sklearn.model_selection import train_test_split\n",
    "binned_y = np.digitize(y, bins)\n",
    "from sklearn.ensemble import RandomForestRegressor, AdaBoostRegressor, ExtraTreesRegressor, GradientBoostingRegressor\n",
    "from sklearn.model_selection import GridSearchCV"
   ]
  },
  {
   "cell_type": "code",
   "execution_count": 4,
   "id": "0ae5d9f3",
   "metadata": {},
   "outputs": [],
   "source": [
    "X_train_prin, X_test_prin, y_train_prin, y_test_prin = train_test_split(X, y, test_size=0.2,stratify=binned_y)\n",
    "binned_y_train_prin = np.digitize(y_train_prin, bins)\n",
    "X_1, X_stack, y_1, y_stack = train_test_split(X_train_prin, y_train_prin, test_size=0.33, stratify=binned_y_train_prin )"
   ]
  },
  {
   "cell_type": "code",
   "execution_count": 6,
   "id": "dc1f1d8a",
   "metadata": {},
   "outputs": [
    {
     "data": {
      "text/plain": [
       "RandomizedSearchCV(cv=3,\n",
       "                   estimator=BaggingRegressor(base_estimator=KNeighborsRegressor()),\n",
       "                   n_iter=5, n_jobs=-1,\n",
       "                   param_distributions={'base_estimator__n_neighbors': [3, 5],\n",
       "                                        'max_features': [0.5, 1.0],\n",
       "                                        'max_samples': [0.5, 1.0],\n",
       "                                        'n_estimators': [100],\n",
       "                                        'oob_score': [True, False]})"
      ]
     },
     "execution_count": 6,
     "metadata": {},
     "output_type": "execute_result"
    }
   ],
   "source": [
    "from sklearn.ensemble import BaggingRegressor\n",
    "from sklearn.neighbors import KNeighborsRegressor\n",
    "from sklearn.model_selection import RandomizedSearchCV\n",
    "param_dist = {\n",
    "    'max_samples': [0.5,1.0],\n",
    "    'max_features' : [0.5,1.0],\n",
    "    'oob_score' : [True, False],\n",
    "    'base_estimator__n_neighbors': [3,5],\n",
    "    'n_estimators': [100]\n",
    "    }\n",
    "single_estimator = KNeighborsRegressor()\n",
    "ensemble_estimator = BaggingRegressor(base_estimator = single_estimator)\n",
    "pre_gs_inst_bag = RandomizedSearchCV(ensemble_estimator, param_distributions = param_dist,\n",
    "      cv=3,\n",
    "      n_iter = 5,\n",
    "      n_jobs=-1)\n",
    "pre_gs_inst_bag.fit(X_1, y_1)"
   ]
  },
  {
   "cell_type": "code",
   "execution_count": 7,
   "id": "67ac71e7",
   "metadata": {},
   "outputs": [
    {
     "data": {
      "text/plain": [
       "BaggingRegressor(base_estimator=KNeighborsRegressor(n_neighbors=3),\n",
       "                 max_features=0.5, max_samples=0.5, n_estimators=3000)"
      ]
     },
     "execution_count": 7,
     "metadata": {},
     "output_type": "execute_result"
    }
   ],
   "source": [
    "rs_bag = BaggingRegressor(**{'max_features': 0.5,\n",
    "  'max_samples': 0.5,\n",
    "  'n_estimators': 3000,\n",
    "  'oob_score': False,\n",
    "  'base_estimator': KNeighborsRegressor(n_neighbors=3)})\n",
    "rs_bag.fit(X_1, y_1)"
   ]
  },
  {
   "cell_type": "code",
   "execution_count": 8,
   "id": "cffbcbab",
   "metadata": {},
   "outputs": [
    {
     "data": {
      "text/plain": [
       "RandomizedSearchCV(cv=3, estimator=GradientBoostingRegressor(warm_start=True),\n",
       "                   n_iter=30, n_jobs=-1,\n",
       "                   param_distributions={'learning_rate': [0.01, 0.05, 0.1, 0.25,\n",
       "                                                          0.275, 0.3, 0.325],\n",
       "                                        'loss': ['ls', 'huber'],\n",
       "                                        'max_depth': [2, 3, 4, 5, 6, 7, 10],\n",
       "                                        'max_features': ['log2', 0.4, 0.5, 0.6,\n",
       "                                                         1.0],\n",
       "                                        'min_samples_leaf': [1, 2, 3, 4, 5, 10],\n",
       "                                        'n_estimators': [50, 100]})"
      ]
     },
     "execution_count": 8,
     "metadata": {},
     "output_type": "execute_result"
    }
   ],
   "source": [
    "from sklearn.ensemble import GradientBoostingRegressor\n",
    "from sklearn.model_selection import RandomizedSearchCV\n",
    "param_dist = {'max_features' : ['log2',0.4,0.5,0.6,1.0],\n",
    "    'max_depth' : [2,3, 4, 5,6, 7, 10],\n",
    "    'min_samples_leaf' : [1,2, 3, 4, 5, 10],\n",
    "    'n_estimators': [50, 100],\n",
    "    'learning_rate' : [0.01,0.05,0.1,0.25,0.275,0.3,0.325],\n",
    "    'loss' : ['ls','huber']\n",
    "    }\n",
    "pre_gs_inst = RandomizedSearchCV(GradientBoostingRegressor(warm_start=True),\n",
    "    param_distributions = param_dist,\n",
    "    cv=3,\n",
    "    n_iter = 30, n_jobs=-1)\n",
    "pre_gs_inst.fit(X_1, y_1)"
   ]
  },
  {
   "cell_type": "code",
   "execution_count": 9,
   "id": "8ec659fd",
   "metadata": {},
   "outputs": [],
   "source": [
    "gbt_inst = GradientBoostingRegressor(**{'learning_rate': 0.05,\n",
    "  'loss': 'huber',\n",
    "  'max_depth': 10,\n",
    "  'max_features': 0.4,\n",
    "  'min_samples_leaf': 5,\n",
    "  'n_estimators': 3000,\n",
    "  'warm_start': True}).fit(X_1, y_1)"
   ]
  },
  {
   "cell_type": "code",
   "execution_count": 10,
   "id": "09ff6ca0",
   "metadata": {},
   "outputs": [],
   "source": [
    "y_pred_bag = rs_bag.predict(X_stack)\n",
    "y_pred_gbt = gbt_inst.predict(X_stack)"
   ]
  },
  {
   "cell_type": "code",
   "execution_count": 11,
   "id": "53217b79",
   "metadata": {},
   "outputs": [
    {
     "name": "stdout",
     "output_type": "stream",
     "text": [
      "R-squared 0.5341214553970395\n",
      "MAE :  0.6070161367096927\n",
      "MAPE :  0.3997489187918929\n"
     ]
    }
   ],
   "source": [
    "from sklearn.metrics import r2_score, mean_absolute_error\n",
    "print (\"R-squared\",r2_score(y_stack, y_pred_bag))\n",
    "print (\"MAE : \",mean_absolute_error(y_stack, y_pred_bag))\n",
    "print (\"MAPE : \",(np.abs(y_stack- y_pred_bag)/y_stack).mean())"
   ]
  },
  {
   "cell_type": "code",
   "execution_count": 14,
   "id": "2bfaeb3b",
   "metadata": {},
   "outputs": [
    {
     "name": "stdout",
     "output_type": "stream",
     "text": [
      "R-squared 0.8394643358071088\n",
      "MAE :  0.29944650416639845\n",
      "MAPE :  0.17063204024649417\n"
     ]
    }
   ],
   "source": [
    "from sklearn.metrics import r2_score, mean_absolute_error\n",
    "print (\"R-squared\",r2_score(y_stack, y_pred_gbt))\n",
    "print (\"MAE : \",mean_absolute_error(y_stack, y_pred_gbt))\n",
    "print (\"MAPE : \",(np.abs(y_stack - y_pred_gbt)/y_stack).mean())"
   ]
  },
  {
   "cell_type": "code",
   "execution_count": 15,
   "id": "5413db3c",
   "metadata": {},
   "outputs": [],
   "source": [
    "y_pred_bag = rs_bag.predict(X_stack)\n",
    "y_pred_gbt = gbt_inst.predict(X_stack)\n",
    "preds_df = pd.DataFrame(columns = ['bag', 'gbt'])\n",
    "preds_df['bag'] = y_pred_bag\n",
    "preds_df['gbt'] = y_pred_gbt"
   ]
  },
  {
   "cell_type": "code",
   "execution_count": 16,
   "id": "7007b373",
   "metadata": {},
   "outputs": [
    {
     "data": {
      "text/html": [
       "<div>\n",
       "<style scoped>\n",
       "    .dataframe tbody tr th:only-of-type {\n",
       "        vertical-align: middle;\n",
       "    }\n",
       "\n",
       "    .dataframe tbody tr th {\n",
       "        vertical-align: top;\n",
       "    }\n",
       "\n",
       "    .dataframe thead th {\n",
       "        text-align: right;\n",
       "    }\n",
       "</style>\n",
       "<table border=\"1\" class=\"dataframe\">\n",
       "  <thead>\n",
       "    <tr style=\"text-align: right;\">\n",
       "      <th></th>\n",
       "      <th>bag</th>\n",
       "      <th>gbt</th>\n",
       "    </tr>\n",
       "  </thead>\n",
       "  <tbody>\n",
       "    <tr>\n",
       "      <th>0</th>\n",
       "      <td>1.720408</td>\n",
       "      <td>1.705994</td>\n",
       "    </tr>\n",
       "    <tr>\n",
       "      <th>1</th>\n",
       "      <td>2.346246</td>\n",
       "      <td>2.351901</td>\n",
       "    </tr>\n",
       "    <tr>\n",
       "      <th>2</th>\n",
       "      <td>1.936278</td>\n",
       "      <td>1.599417</td>\n",
       "    </tr>\n",
       "    <tr>\n",
       "      <th>3</th>\n",
       "      <td>2.694058</td>\n",
       "      <td>4.036642</td>\n",
       "    </tr>\n",
       "    <tr>\n",
       "      <th>4</th>\n",
       "      <td>1.572354</td>\n",
       "      <td>1.207193</td>\n",
       "    </tr>\n",
       "    <tr>\n",
       "      <th>...</th>\n",
       "      <td>...</td>\n",
       "      <td>...</td>\n",
       "    </tr>\n",
       "    <tr>\n",
       "      <th>5444</th>\n",
       "      <td>1.766286</td>\n",
       "      <td>1.403415</td>\n",
       "    </tr>\n",
       "    <tr>\n",
       "      <th>5445</th>\n",
       "      <td>2.346503</td>\n",
       "      <td>2.059170</td>\n",
       "    </tr>\n",
       "    <tr>\n",
       "      <th>5446</th>\n",
       "      <td>1.859025</td>\n",
       "      <td>1.911728</td>\n",
       "    </tr>\n",
       "    <tr>\n",
       "      <th>5447</th>\n",
       "      <td>2.269572</td>\n",
       "      <td>2.213576</td>\n",
       "    </tr>\n",
       "    <tr>\n",
       "      <th>5448</th>\n",
       "      <td>1.885979</td>\n",
       "      <td>1.168624</td>\n",
       "    </tr>\n",
       "  </tbody>\n",
       "</table>\n",
       "<p>5449 rows × 2 columns</p>\n",
       "</div>"
      ],
      "text/plain": [
       "           bag       gbt\n",
       "0     1.720408  1.705994\n",
       "1     2.346246  2.351901\n",
       "2     1.936278  1.599417\n",
       "3     2.694058  4.036642\n",
       "4     1.572354  1.207193\n",
       "...        ...       ...\n",
       "5444  1.766286  1.403415\n",
       "5445  2.346503  2.059170\n",
       "5446  1.859025  1.911728\n",
       "5447  2.269572  2.213576\n",
       "5448  1.885979  1.168624\n",
       "\n",
       "[5449 rows x 2 columns]"
      ]
     },
     "execution_count": 16,
     "metadata": {},
     "output_type": "execute_result"
    }
   ],
   "source": [
    "preds_df"
   ]
  },
  {
   "cell_type": "code",
   "execution_count": 17,
   "id": "0861dcdb",
   "metadata": {},
   "outputs": [
    {
     "data": {
      "text/html": [
       "<div>\n",
       "<style scoped>\n",
       "    .dataframe tbody tr th:only-of-type {\n",
       "        vertical-align: middle;\n",
       "    }\n",
       "\n",
       "    .dataframe tbody tr th {\n",
       "        vertical-align: top;\n",
       "    }\n",
       "\n",
       "    .dataframe thead th {\n",
       "        text-align: right;\n",
       "    }\n",
       "</style>\n",
       "<table border=\"1\" class=\"dataframe\">\n",
       "  <thead>\n",
       "    <tr style=\"text-align: right;\">\n",
       "      <th></th>\n",
       "      <th>bag</th>\n",
       "      <th>gbt</th>\n",
       "    </tr>\n",
       "  </thead>\n",
       "  <tbody>\n",
       "    <tr>\n",
       "      <th>bag</th>\n",
       "      <td>1.000000</td>\n",
       "      <td>0.911048</td>\n",
       "    </tr>\n",
       "    <tr>\n",
       "      <th>gbt</th>\n",
       "      <td>0.911048</td>\n",
       "      <td>1.000000</td>\n",
       "    </tr>\n",
       "  </tbody>\n",
       "</table>\n",
       "</div>"
      ],
      "text/plain": [
       "          bag       gbt\n",
       "bag  1.000000  0.911048\n",
       "gbt  0.911048  1.000000"
      ]
     },
     "execution_count": 17,
     "metadata": {},
     "output_type": "execute_result"
    }
   ],
   "source": [
    "preds_df.corr()"
   ]
  },
  {
   "cell_type": "code",
   "execution_count": 18,
   "id": "c24a6f62",
   "metadata": {},
   "outputs": [
    {
     "data": {
      "text/plain": [
       "RandomizedSearchCV(cv=3,\n",
       "                   estimator=ExtraTreesRegressor(bootstrap=True,\n",
       "                                                 warm_start=True),\n",
       "                   n_iter=15,\n",
       "                   param_distributions={'max_features': ['sqrt', 'log2', 1.0],\n",
       "                                        'min_samples_leaf': [1, 2, 3, 7, 11],\n",
       "                                        'n_estimators': [50, 100],\n",
       "                                        'oob_score': [True, False]})"
      ]
     },
     "execution_count": 18,
     "metadata": {},
     "output_type": "execute_result"
    }
   ],
   "source": [
    "from sklearn.ensemble import ExtraTreesRegressor\n",
    "from sklearn.model_selection import RandomizedSearchCV\n",
    "param_dist = {'max_features' : ['sqrt','log2',1.0],\n",
    "    'min_samples_leaf' : [1, 2, 3, 7, 11],\n",
    "    'n_estimators': [50, 100],\n",
    "    'oob_score': [True, False]}\n",
    "pre_gs_inst = RandomizedSearchCV(ExtraTreesRegressor(warm_start=True,bootstrap=True),\n",
    "    param_distributions = param_dist,\n",
    "    cv=3,\n",
    "    n_iter = 15)\n",
    "pre_gs_inst.fit(preds_df.values, y_stack)"
   ]
  },
  {
   "cell_type": "code",
   "execution_count": 19,
   "id": "c338b1b9",
   "metadata": {},
   "outputs": [
    {
     "data": {
      "text/plain": [
       "{'oob_score': False,\n",
       " 'n_estimators': 2000,\n",
       " 'min_samples_leaf': 11,\n",
       " 'max_features': 1.0,\n",
       " 'warm_start': True,\n",
       " 'bootstrap': True,\n",
       " 'n_jobs': -1}"
      ]
     },
     "execution_count": 19,
     "metadata": {},
     "output_type": "execute_result"
    }
   ],
   "source": [
    "import copy\n",
    "param_dict = copy.deepcopy(pre_gs_inst.best_params_)\n",
    "param_dict['n_estimators'] = 2000\n",
    "param_dict['warm_start'] = True\n",
    "param_dict['bootstrap'] = True\n",
    "param_dict['n_jobs'] = -1\n",
    "param_dict"
   ]
  },
  {
   "cell_type": "code",
   "execution_count": 20,
   "id": "b6e8a28e",
   "metadata": {},
   "outputs": [
    {
     "data": {
      "text/plain": [
       "ExtraTreesRegressor(bootstrap=True, max_features=1.0, min_samples_leaf=11,\n",
       "                    n_estimators=2000, n_jobs=-1, warm_start=True)"
      ]
     },
     "execution_count": 20,
     "metadata": {},
     "output_type": "execute_result"
    }
   ],
   "source": [
    "final_etr = ExtraTreesRegressor(**param_dict)\n",
    "final_etr.fit(preds_df.values, y_stack)"
   ]
  },
  {
   "cell_type": "code",
   "execution_count": 21,
   "id": "bf9cacfc",
   "metadata": {},
   "outputs": [],
   "source": [
    "def handle_X_set(X_train_set):\n",
    "   y_pred_bag = rs_bag.predict(X_train_set)\n",
    "   y_pred_gbt = gbt_inst.predict(X_train_set)\n",
    "   preds_df = pd.DataFrame(columns = ['bag', 'gbt'])\n",
    "   preds_df['bag'] = y_pred_bag\n",
    "   preds_df['gbt'] = y_pred_gbt\n",
    "   return preds_df.values\n",
    "def predict_from_X_set(X_train_set):\n",
    "    return final_etr.predict(handle_X_set(X_train_set))"
   ]
  },
  {
   "cell_type": "code",
   "execution_count": 22,
   "id": "6469710d",
   "metadata": {},
   "outputs": [],
   "source": [
    "y_pred = predict_from_X_set(X_test_prin)"
   ]
  },
  {
   "cell_type": "code",
   "execution_count": 23,
   "id": "2b8b0cf9",
   "metadata": {},
   "outputs": [
    {
     "name": "stdout",
     "output_type": "stream",
     "text": [
      "R-squared 0.8380172254725898\n",
      "MAE :  0.3013640104360762\n",
      "MAPE :  0.16688308503560817\n"
     ]
    }
   ],
   "source": [
    "from sklearn.metrics import r2_score, mean_absolute_error\n",
    "print( \"R-squared\",r2_score(y_test_prin, y_pred))\n",
    "print(\"MAE : \",mean_absolute_error(y_test_prin, y_pred))\n",
    "print(\"MAPE : \",(np.abs(y_test_prin- y_pred)/y_test_prin).mean())"
   ]
  }
 ],
 "metadata": {
  "kernelspec": {
   "display_name": "Python 3 (ipykernel)",
   "language": "python",
   "name": "python3"
  },
  "language_info": {
   "codemirror_mode": {
    "name": "ipython",
    "version": 3
   },
   "file_extension": ".py",
   "mimetype": "text/x-python",
   "name": "python",
   "nbconvert_exporter": "python",
   "pygments_lexer": "ipython3",
   "version": "3.8.12"
  }
 },
 "nbformat": 4,
 "nbformat_minor": 5
}
