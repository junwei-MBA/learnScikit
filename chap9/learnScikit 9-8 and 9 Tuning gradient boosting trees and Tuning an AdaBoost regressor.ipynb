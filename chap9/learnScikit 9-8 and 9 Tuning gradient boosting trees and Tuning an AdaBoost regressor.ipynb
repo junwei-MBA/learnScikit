{
 "cells": [
  {
   "cell_type": "code",
   "execution_count": 1,
   "id": "1a5d4a99",
   "metadata": {},
   "outputs": [],
   "source": [
    "%matplotlib inline\n",
    "from __future__ import division #Load within Python 2.7 for regular\n",
    "division\n",
    "import numpy as np\n",
    "import pandas as pd\n",
    "import matplotlib.pyplot as plt\n",
    "from sklearn.datasets import fetch_california_housing\n",
    "cali_housing = fetch_california_housing()\n",
    "X = cali_housing.data\n",
    "y = cali_housing.target"
   ]
  },
  {
   "cell_type": "code",
   "execution_count": 3,
   "id": "3a9eb8da",
   "metadata": {},
   "outputs": [],
   "source": [
    "#bin output variable to split training and testing sets into two similar sets\n",
    "bins = np.arange(6)\n",
    "binned_y = np.digitize(y, bins)\n",
    "from sklearn.model_selection import train_test_split\n",
    "X_train, X_test, y_train, y_test = train_test_split(X, y, test_size=0.2,stratify=binned_y)"
   ]
  },
  {
   "cell_type": "code",
   "execution_count": 4,
   "id": "f937e2e9",
   "metadata": {},
   "outputs": [],
   "source": [
    "from sklearn.ensemble import GradientBoostingRegressor\n",
    "from sklearn.model_selection import RandomizedSearchCV"
   ]
  },
  {
   "cell_type": "code",
   "execution_count": 5,
   "id": "7a7f873b",
   "metadata": {},
   "outputs": [],
   "source": [
    "param_dist = {'max_features' : ['log2',1.0],\n",
    "'max_depth' : [3, 5, 7, 10],\n",
    "'min_samples_leaf' : [2, 3, 5, 10],\n",
    "'n_estimators': [50, 100],\n",
    "'learning_rate' : [0.0001,0.001,0.01,0.05,0.1,0.3],\n",
    "'loss' : ['ls','huber']\n",
    "}"
   ]
  },
  {
   "cell_type": "code",
   "execution_count": 6,
   "id": "58f1b0f5",
   "metadata": {},
   "outputs": [
    {
     "data": {
      "text/plain": [
       "RandomizedSearchCV(cv=3, estimator=GradientBoostingRegressor(warm_start=True),\n",
       "                   n_iter=30, n_jobs=-1,\n",
       "                   param_distributions={'learning_rate': [0.0001, 0.001, 0.01,\n",
       "                                                          0.05, 0.1, 0.3],\n",
       "                                        'loss': ['ls', 'huber'],\n",
       "                                        'max_depth': [3, 5, 7, 10],\n",
       "                                        'max_features': ['log2', 1.0],\n",
       "                                        'min_samples_leaf': [2, 3, 5, 10],\n",
       "                                        'n_estimators': [50, 100]})"
      ]
     },
     "execution_count": 6,
     "metadata": {},
     "output_type": "execute_result"
    }
   ],
   "source": [
    "pre_gs_inst = RandomizedSearchCV(GradientBoostingRegressor(warm_start=True),\n",
    "     param_distributions = param_dist,\n",
    "     cv=3,\n",
    "     n_iter = 30, n_jobs=-1)\n",
    "pre_gs_inst.fit(X_train, y_train)"
   ]
  },
  {
   "cell_type": "code",
   "execution_count": 9,
   "id": "b5248efb",
   "metadata": {},
   "outputs": [],
   "source": [
    "import numpy as np\n",
    "import pandas as pd\n",
    "def get_grid_df(fitted_gs_estimator):\n",
    "   res_dict = fitted_gs_estimator.cv_results_\n",
    "   results_df = pd.DataFrame()\n",
    "   for key in res_dict.keys():\n",
    "        results_df[key] = res_dict[key]\n",
    "   return results_df\n",
    "def group_report(results_df):\n",
    "     param_cols = [x for x in results_df.columns if 'param' in x and x != 'params']\n",
    "     focus_cols = param_cols + ['mean_test_score']\n",
    "     print (\"Grid CV Report \\n\")\n",
    "     output_df = pd.DataFrame(columns = ['param_type','param_set','mean_score','mean_std'])\n",
    "     cc = 0\n",
    "     for param in param_cols:\n",
    "        for key,group in results_df.groupby(param):\n",
    "             output_df.loc[cc] = (param, key, group['mean_test_score'].mean(), group['mean_test_score'].std())\n",
    "             cc += 1\n",
    "     return output_df"
   ]
  },
  {
   "cell_type": "code",
   "execution_count": 10,
   "id": "0dfe923a",
   "metadata": {},
   "outputs": [
    {
     "name": "stdout",
     "output_type": "stream",
     "text": [
      "Grid CV Report \n",
      "\n"
     ]
    },
    {
     "data": {
      "text/html": [
       "<div>\n",
       "<style scoped>\n",
       "    .dataframe tbody tr th:only-of-type {\n",
       "        vertical-align: middle;\n",
       "    }\n",
       "\n",
       "    .dataframe tbody tr th {\n",
       "        vertical-align: top;\n",
       "    }\n",
       "\n",
       "    .dataframe thead th {\n",
       "        text-align: right;\n",
       "    }\n",
       "</style>\n",
       "<table border=\"1\" class=\"dataframe\">\n",
       "  <thead>\n",
       "    <tr style=\"text-align: right;\">\n",
       "      <th></th>\n",
       "      <th>param_type</th>\n",
       "      <th>param_set</th>\n",
       "      <th>mean_score</th>\n",
       "      <th>mean_std</th>\n",
       "    </tr>\n",
       "  </thead>\n",
       "  <tbody>\n",
       "    <tr>\n",
       "      <th>0</th>\n",
       "      <td>param_n_estimators</td>\n",
       "      <td>50</td>\n",
       "      <td>0.361924</td>\n",
       "      <td>0.372559</td>\n",
       "    </tr>\n",
       "    <tr>\n",
       "      <th>1</th>\n",
       "      <td>param_n_estimators</td>\n",
       "      <td>100</td>\n",
       "      <td>0.489657</td>\n",
       "      <td>0.346502</td>\n",
       "    </tr>\n",
       "    <tr>\n",
       "      <th>2</th>\n",
       "      <td>param_min_samples_leaf</td>\n",
       "      <td>2</td>\n",
       "      <td>0.446341</td>\n",
       "      <td>0.313215</td>\n",
       "    </tr>\n",
       "    <tr>\n",
       "      <th>3</th>\n",
       "      <td>param_min_samples_leaf</td>\n",
       "      <td>3</td>\n",
       "      <td>0.274503</td>\n",
       "      <td>0.397831</td>\n",
       "    </tr>\n",
       "    <tr>\n",
       "      <th>4</th>\n",
       "      <td>param_min_samples_leaf</td>\n",
       "      <td>5</td>\n",
       "      <td>0.515431</td>\n",
       "      <td>0.364653</td>\n",
       "    </tr>\n",
       "    <tr>\n",
       "      <th>5</th>\n",
       "      <td>param_min_samples_leaf</td>\n",
       "      <td>10</td>\n",
       "      <td>0.459368</td>\n",
       "      <td>0.384627</td>\n",
       "    </tr>\n",
       "    <tr>\n",
       "      <th>6</th>\n",
       "      <td>param_max_features</td>\n",
       "      <td>1.0</td>\n",
       "      <td>0.489292</td>\n",
       "      <td>0.353288</td>\n",
       "    </tr>\n",
       "    <tr>\n",
       "      <th>7</th>\n",
       "      <td>param_max_features</td>\n",
       "      <td>log2</td>\n",
       "      <td>0.402471</td>\n",
       "      <td>0.365618</td>\n",
       "    </tr>\n",
       "    <tr>\n",
       "      <th>8</th>\n",
       "      <td>param_max_depth</td>\n",
       "      <td>3</td>\n",
       "      <td>0.369175</td>\n",
       "      <td>0.339521</td>\n",
       "    </tr>\n",
       "    <tr>\n",
       "      <th>9</th>\n",
       "      <td>param_max_depth</td>\n",
       "      <td>5</td>\n",
       "      <td>0.385316</td>\n",
       "      <td>0.440328</td>\n",
       "    </tr>\n",
       "    <tr>\n",
       "      <th>10</th>\n",
       "      <td>param_max_depth</td>\n",
       "      <td>7</td>\n",
       "      <td>0.625621</td>\n",
       "      <td>0.315109</td>\n",
       "    </tr>\n",
       "    <tr>\n",
       "      <th>11</th>\n",
       "      <td>param_max_depth</td>\n",
       "      <td>10</td>\n",
       "      <td>0.413010</td>\n",
       "      <td>0.392232</td>\n",
       "    </tr>\n",
       "    <tr>\n",
       "      <th>12</th>\n",
       "      <td>param_loss</td>\n",
       "      <td>huber</td>\n",
       "      <td>0.407168</td>\n",
       "      <td>0.366353</td>\n",
       "    </tr>\n",
       "    <tr>\n",
       "      <th>13</th>\n",
       "      <td>param_loss</td>\n",
       "      <td>ls</td>\n",
       "      <td>0.465320</td>\n",
       "      <td>0.358239</td>\n",
       "    </tr>\n",
       "    <tr>\n",
       "      <th>14</th>\n",
       "      <td>param_learning_rate</td>\n",
       "      <td>0.0001</td>\n",
       "      <td>-0.021987</td>\n",
       "      <td>0.028759</td>\n",
       "    </tr>\n",
       "    <tr>\n",
       "      <th>15</th>\n",
       "      <td>param_learning_rate</td>\n",
       "      <td>0.001</td>\n",
       "      <td>0.036875</td>\n",
       "      <td>0.030201</td>\n",
       "    </tr>\n",
       "    <tr>\n",
       "      <th>16</th>\n",
       "      <td>param_learning_rate</td>\n",
       "      <td>0.01</td>\n",
       "      <td>0.511768</td>\n",
       "      <td>0.083183</td>\n",
       "    </tr>\n",
       "    <tr>\n",
       "      <th>17</th>\n",
       "      <td>param_learning_rate</td>\n",
       "      <td>0.05</td>\n",
       "      <td>0.767467</td>\n",
       "      <td>0.063357</td>\n",
       "    </tr>\n",
       "    <tr>\n",
       "      <th>18</th>\n",
       "      <td>param_learning_rate</td>\n",
       "      <td>0.1</td>\n",
       "      <td>0.806971</td>\n",
       "      <td>0.024914</td>\n",
       "    </tr>\n",
       "    <tr>\n",
       "      <th>19</th>\n",
       "      <td>param_learning_rate</td>\n",
       "      <td>0.3</td>\n",
       "      <td>0.810262</td>\n",
       "      <td>0.016010</td>\n",
       "    </tr>\n",
       "  </tbody>\n",
       "</table>\n",
       "</div>"
      ],
      "text/plain": [
       "                param_type param_set  mean_score  mean_std\n",
       "0       param_n_estimators        50    0.361924  0.372559\n",
       "1       param_n_estimators       100    0.489657  0.346502\n",
       "2   param_min_samples_leaf         2    0.446341  0.313215\n",
       "3   param_min_samples_leaf         3    0.274503  0.397831\n",
       "4   param_min_samples_leaf         5    0.515431  0.364653\n",
       "5   param_min_samples_leaf        10    0.459368  0.384627\n",
       "6       param_max_features       1.0    0.489292  0.353288\n",
       "7       param_max_features      log2    0.402471  0.365618\n",
       "8          param_max_depth         3    0.369175  0.339521\n",
       "9          param_max_depth         5    0.385316  0.440328\n",
       "10         param_max_depth         7    0.625621  0.315109\n",
       "11         param_max_depth        10    0.413010  0.392232\n",
       "12              param_loss     huber    0.407168  0.366353\n",
       "13              param_loss        ls    0.465320  0.358239\n",
       "14     param_learning_rate    0.0001   -0.021987  0.028759\n",
       "15     param_learning_rate     0.001    0.036875  0.030201\n",
       "16     param_learning_rate      0.01    0.511768  0.083183\n",
       "17     param_learning_rate      0.05    0.767467  0.063357\n",
       "18     param_learning_rate       0.1    0.806971  0.024914\n",
       "19     param_learning_rate       0.3    0.810262  0.016010"
      ]
     },
     "execution_count": 10,
     "metadata": {},
     "output_type": "execute_result"
    }
   ],
   "source": [
    "results_df = get_grid_df(pre_gs_inst)\n",
    "group_report(results_df)"
   ]
  },
  {
   "cell_type": "code",
   "execution_count": 13,
   "id": "b50a9501",
   "metadata": {},
   "outputs": [
    {
     "data": {
      "text/plain": [
       "RandomizedSearchCV(cv=3, estimator=GradientBoostingRegressor(warm_start=True),\n",
       "                   n_iter=30, n_jobs=-1,\n",
       "                   param_distributions={'learning_rate': [0.2, 0.25, 0.3, 0.4],\n",
       "                                        'loss': ['ls', 'huber'],\n",
       "                                        'max_depth': [7, 8, 9],\n",
       "                                        'max_features': ['sqrt', 0.5, 1.0],\n",
       "                                        'min_samples_leaf': [4, 5, 6],\n",
       "                                        'n_estimators': [50, 100]})"
      ]
     },
     "execution_count": 13,
     "metadata": {},
     "output_type": "execute_result"
    }
   ],
   "source": [
    "param_dist = {'max_features' : ['sqrt',0.5,1.0],\n",
    "      'max_depth' : [7,8,9],\n",
    "      'min_samples_leaf' : [4, 5,6],\n",
    "      'n_estimators': [50, 100],\n",
    "              'learning_rate' : [0.2,0.25, 0.3, 0.4],\n",
    "      'loss' : ['ls','huber']\n",
    "      }\n",
    "pre_gs_inst = RandomizedSearchCV(GradientBoostingRegressor(warm_start=True),\n",
    "      param_distributions = param_dist,\n",
    "      cv=3,\n",
    "      n_iter = 30, n_jobs=-1)\n",
    "pre_gs_inst.fit(X_train, y_train)\n"
   ]
  },
  {
   "cell_type": "code",
   "execution_count": 14,
   "id": "578afd4a",
   "metadata": {},
   "outputs": [
    {
     "name": "stdout",
     "output_type": "stream",
     "text": [
      "Grid CV Report \n",
      "\n"
     ]
    },
    {
     "data": {
      "text/html": [
       "<div>\n",
       "<style scoped>\n",
       "    .dataframe tbody tr th:only-of-type {\n",
       "        vertical-align: middle;\n",
       "    }\n",
       "\n",
       "    .dataframe tbody tr th {\n",
       "        vertical-align: top;\n",
       "    }\n",
       "\n",
       "    .dataframe thead th {\n",
       "        text-align: right;\n",
       "    }\n",
       "</style>\n",
       "<table border=\"1\" class=\"dataframe\">\n",
       "  <thead>\n",
       "    <tr style=\"text-align: right;\">\n",
       "      <th></th>\n",
       "      <th>param_type</th>\n",
       "      <th>param_set</th>\n",
       "      <th>mean_score</th>\n",
       "      <th>mean_std</th>\n",
       "    </tr>\n",
       "  </thead>\n",
       "  <tbody>\n",
       "    <tr>\n",
       "      <th>0</th>\n",
       "      <td>param_n_estimators</td>\n",
       "      <td>50</td>\n",
       "      <td>0.815045</td>\n",
       "      <td>0.008301</td>\n",
       "    </tr>\n",
       "    <tr>\n",
       "      <th>1</th>\n",
       "      <td>param_n_estimators</td>\n",
       "      <td>100</td>\n",
       "      <td>0.815508</td>\n",
       "      <td>0.009499</td>\n",
       "    </tr>\n",
       "    <tr>\n",
       "      <th>2</th>\n",
       "      <td>param_min_samples_leaf</td>\n",
       "      <td>4</td>\n",
       "      <td>0.810797</td>\n",
       "      <td>0.006760</td>\n",
       "    </tr>\n",
       "    <tr>\n",
       "      <th>3</th>\n",
       "      <td>param_min_samples_leaf</td>\n",
       "      <td>5</td>\n",
       "      <td>0.817793</td>\n",
       "      <td>0.007704</td>\n",
       "    </tr>\n",
       "    <tr>\n",
       "      <th>4</th>\n",
       "      <td>param_min_samples_leaf</td>\n",
       "      <td>6</td>\n",
       "      <td>0.816003</td>\n",
       "      <td>0.011687</td>\n",
       "    </tr>\n",
       "    <tr>\n",
       "      <th>5</th>\n",
       "      <td>param_max_features</td>\n",
       "      <td>0.5</td>\n",
       "      <td>0.824084</td>\n",
       "      <td>0.002931</td>\n",
       "    </tr>\n",
       "    <tr>\n",
       "      <th>6</th>\n",
       "      <td>param_max_features</td>\n",
       "      <td>1.0</td>\n",
       "      <td>0.813911</td>\n",
       "      <td>0.006943</td>\n",
       "    </tr>\n",
       "    <tr>\n",
       "      <th>7</th>\n",
       "      <td>param_max_features</td>\n",
       "      <td>sqrt</td>\n",
       "      <td>0.808847</td>\n",
       "      <td>0.006930</td>\n",
       "    </tr>\n",
       "    <tr>\n",
       "      <th>8</th>\n",
       "      <td>param_max_depth</td>\n",
       "      <td>7</td>\n",
       "      <td>0.817077</td>\n",
       "      <td>0.007841</td>\n",
       "    </tr>\n",
       "    <tr>\n",
       "      <th>9</th>\n",
       "      <td>param_max_depth</td>\n",
       "      <td>8</td>\n",
       "      <td>0.816051</td>\n",
       "      <td>0.009145</td>\n",
       "    </tr>\n",
       "    <tr>\n",
       "      <th>10</th>\n",
       "      <td>param_max_depth</td>\n",
       "      <td>9</td>\n",
       "      <td>0.812329</td>\n",
       "      <td>0.009505</td>\n",
       "    </tr>\n",
       "    <tr>\n",
       "      <th>11</th>\n",
       "      <td>param_loss</td>\n",
       "      <td>huber</td>\n",
       "      <td>0.817017</td>\n",
       "      <td>0.011793</td>\n",
       "    </tr>\n",
       "    <tr>\n",
       "      <th>12</th>\n",
       "      <td>param_loss</td>\n",
       "      <td>ls</td>\n",
       "      <td>0.814643</td>\n",
       "      <td>0.007631</td>\n",
       "    </tr>\n",
       "    <tr>\n",
       "      <th>13</th>\n",
       "      <td>param_learning_rate</td>\n",
       "      <td>0.2</td>\n",
       "      <td>0.823046</td>\n",
       "      <td>0.005489</td>\n",
       "    </tr>\n",
       "    <tr>\n",
       "      <th>14</th>\n",
       "      <td>param_learning_rate</td>\n",
       "      <td>0.25</td>\n",
       "      <td>0.818747</td>\n",
       "      <td>0.004084</td>\n",
       "    </tr>\n",
       "    <tr>\n",
       "      <th>15</th>\n",
       "      <td>param_learning_rate</td>\n",
       "      <td>0.3</td>\n",
       "      <td>0.811753</td>\n",
       "      <td>0.004849</td>\n",
       "    </tr>\n",
       "    <tr>\n",
       "      <th>16</th>\n",
       "      <td>param_learning_rate</td>\n",
       "      <td>0.4</td>\n",
       "      <td>0.802233</td>\n",
       "      <td>0.006697</td>\n",
       "    </tr>\n",
       "  </tbody>\n",
       "</table>\n",
       "</div>"
      ],
      "text/plain": [
       "                param_type param_set  mean_score  mean_std\n",
       "0       param_n_estimators        50    0.815045  0.008301\n",
       "1       param_n_estimators       100    0.815508  0.009499\n",
       "2   param_min_samples_leaf         4    0.810797  0.006760\n",
       "3   param_min_samples_leaf         5    0.817793  0.007704\n",
       "4   param_min_samples_leaf         6    0.816003  0.011687\n",
       "5       param_max_features       0.5    0.824084  0.002931\n",
       "6       param_max_features       1.0    0.813911  0.006943\n",
       "7       param_max_features      sqrt    0.808847  0.006930\n",
       "8          param_max_depth         7    0.817077  0.007841\n",
       "9          param_max_depth         8    0.816051  0.009145\n",
       "10         param_max_depth         9    0.812329  0.009505\n",
       "11              param_loss     huber    0.817017  0.011793\n",
       "12              param_loss        ls    0.814643  0.007631\n",
       "13     param_learning_rate       0.2    0.823046  0.005489\n",
       "14     param_learning_rate      0.25    0.818747  0.004084\n",
       "15     param_learning_rate       0.3    0.811753  0.004849\n",
       "16     param_learning_rate       0.4    0.802233  0.006697"
      ]
     },
     "execution_count": 14,
     "metadata": {},
     "output_type": "execute_result"
    }
   ],
   "source": [
    "results_df = get_grid_df(pre_gs_inst)\n",
    "group_report(results_df)"
   ]
  },
  {
   "cell_type": "code",
   "execution_count": 15,
   "id": "74d912b2",
   "metadata": {},
   "outputs": [
    {
     "data": {
      "text/plain": [
       "GradientBoostingRegressor(learning_rate=0.3, loss='huber', max_depth=7,\n",
       "                          max_features=0.5, min_samples_leaf=5,\n",
       "                          n_estimators=4000, warm_start=True)"
      ]
     },
     "execution_count": 15,
     "metadata": {},
     "output_type": "execute_result"
    }
   ],
   "source": [
    "rs_gbt = GradientBoostingRegressor(warm_start=True,\n",
    "             max_features = 0.5,\n",
    "             min_samples_leaf = 5,\n",
    "             learning_rate=0.3,\n",
    "             max_depth = 7,\n",
    "             n_estimators = 4000,loss = 'huber')\n",
    "rs_gbt.fit(X_train, y_train)"
   ]
  },
  {
   "cell_type": "code",
   "execution_count": 16,
   "id": "5db366ce",
   "metadata": {},
   "outputs": [
    {
     "data": {
      "text/plain": [
       "<AxesSubplot:>"
      ]
     },
     "execution_count": 16,
     "metadata": {},
     "output_type": "execute_result"
    },
    {
     "data": {
      "image/png": "[encoded data removed]",
      "text/plain": [
       "<Figure size 432x288 with 1 Axes>"
      ]
     },
     "metadata": {
      "needs_background": "light"
     },
     "output_type": "display_data"
    }
   ],
   "source": [
    "pd.Series(y).hist(bins=50)"
   ]
  },
  {
   "cell_type": "code",
   "execution_count": 17,
   "id": "f8faa802",
   "metadata": {},
   "outputs": [],
   "source": [
    "bins = np.arange(6)\n",
    "binned_y = np.digitize(y, bins)\n",
    "from sklearn.model_selection import train_test_split\n",
    "X_train, X_test, y_train, y_test = train_test_split(X, y,\n",
    "test_size=0.2,stratify=binned_y)"
   ]
  },
  {
   "cell_type": "code",
   "execution_count": 18,
   "id": "9d4a1803",
   "metadata": {},
   "outputs": [],
   "source": [
    "y_binary = np.where(y >= 5, 1,0)"
   ]
  },
  {
   "cell_type": "code",
   "execution_count": 19,
   "id": "532ea224",
   "metadata": {},
   "outputs": [],
   "source": [
    "train_shape = X_train.shape[0]\n",
    "y_train_binned = y_binary[:train_shape]\n",
    "y_test_binned = y_binary[train_shape:]"
   ]
  },
  {
   "cell_type": "code",
   "execution_count": 22,
   "id": "2ee08239",
   "metadata": {},
   "outputs": [
    {
     "data": {
      "text/plain": [
       "RandomizedSearchCV(cv=3, estimator=GradientBoostingClassifier(warm_start=True),\n",
       "                   n_jobs=-1,\n",
       "                   param_distributions={'learning_rate': [0.1, 0.2, 0.3, 1],\n",
       "                                        'loss': ['deviance'],\n",
       "                                        'max_depth': [2, 3, 6],\n",
       "                                        'max_features': ['log2', 0.5, 1.0],\n",
       "                                        'min_samples_leaf': [1, 2, 3, 10],\n",
       "                                        'n_estimators': [100]})"
      ]
     },
     "execution_count": 22,
     "metadata": {},
     "output_type": "execute_result"
    }
   ],
   "source": [
    "from sklearn.ensemble import GradientBoostingClassifier\n",
    "from sklearn.model_selection import RandomizedSearchCV\n",
    "param_dist = {'max_features' : ['log2',0.5,1.0],\n",
    "    'max_depth' : [2,3,6],\n",
    "  'min_samples_leaf' : [1,2,3,10],\n",
    "  'n_estimators': [100],\n",
    "  'learning_rate' : [0.1,0.2,0.3,1],\n",
    "  'loss' : ['deviance']\n",
    " }\n",
    "pre_gs_inst = RandomizedSearchCV(GradientBoostingClassifier(warm_start=True),\n",
    "                                 param_distributions = param_dist,\n",
    "                                 cv=3,\n",
    "                                 n_iter = 10, n_jobs=-1)\n",
    "pre_gs_inst.fit(X_train, y_train_binned)"
   ]
  },
  {
   "cell_type": "code",
   "execution_count": 23,
   "id": "798a69f9",
   "metadata": {},
   "outputs": [
    {
     "data": {
      "text/plain": [
       "{'n_estimators': 100,\n",
       " 'min_samples_leaf': 10,\n",
       " 'max_features': 0.5,\n",
       " 'max_depth': 2,\n",
       " 'loss': 'deviance',\n",
       " 'learning_rate': 0.3}"
      ]
     },
     "execution_count": 23,
     "metadata": {},
     "output_type": "execute_result"
    }
   ],
   "source": [
    "pre_gs_inst.best_params_"
   ]
  },
  {
   "cell_type": "code",
   "execution_count": 26,
   "id": "1af2896d",
   "metadata": {},
   "outputs": [],
   "source": [
    "gbc = GradientBoostingClassifier(**{'learning_rate': 0.3,\n",
    "             'loss': 'deviance',\n",
    "             'max_depth': 2,\n",
    "             'max_features': 0.5,\n",
    "             'min_samples_leaf': 10,\n",
    "             'n_estimators': 1000, 'warm_start':True}).fit(X_train, y_train_binned)"
   ]
  },
  {
   "cell_type": "code",
   "execution_count": 27,
   "id": "6ffe4aca",
   "metadata": {},
   "outputs": [
    {
     "data": {
      "text/plain": [
       "0.938468992248062"
      ]
     },
     "execution_count": 27,
     "metadata": {},
     "output_type": "execute_result"
    }
   ],
   "source": [
    "y_pred = gbc.predict(X_test)\n",
    "from sklearn.metrics import accuracy_score\n",
    "accuracy_score(y_test_binned, y_pred)"
   ]
  },
  {
   "cell_type": "markdown",
   "id": "558590c0",
   "metadata": {},
   "source": [
    "### Following is for chapter 9-9 Tuning an AdaBoost regressor"
   ]
  },
  {
   "cell_type": "code",
   "execution_count": 28,
   "id": "7743831e",
   "metadata": {},
   "outputs": [
    {
     "data": {
      "text/plain": [
       "RandomizedSearchCV(cv=3, estimator=AdaBoostRegressor(), n_jobs=-1,\n",
       "                   param_distributions={'learning_rate': [0.01, 0.05, 0.1, 0.3,\n",
       "                                                          1],\n",
       "                                        'loss': ['linear', 'square',\n",
       "                                                 'exponential'],\n",
       "                                        'n_estimators': [50, 100]})"
      ]
     },
     "execution_count": 28,
     "metadata": {},
     "output_type": "execute_result"
    }
   ],
   "source": [
    "from sklearn.ensemble import AdaBoostRegressor\n",
    "from sklearn.model_selection import RandomizedSearchCV\n",
    "param_dist = {\n",
    " 'n_estimators': [50, 100],\n",
    " 'learning_rate' : [0.01,0.05,0.1,0.3,1],\n",
    " 'loss' : ['linear', 'square', 'exponential']\n",
    " }\n",
    "pre_gs_inst = RandomizedSearchCV(AdaBoostRegressor(),\n",
    " param_distributions = param_dist,\n",
    " cv=3,\n",
    " n_iter = 10,\n",
    " n_jobs=-1)\n",
    "pre_gs_inst.fit(X_train, y_train)"
   ]
  },
  {
   "cell_type": "code",
   "execution_count": 29,
   "id": "ab8a8e79",
   "metadata": {},
   "outputs": [
    {
     "data": {
      "text/plain": [
       "{'n_estimators': 100, 'loss': 'exponential', 'learning_rate': 0.1}"
      ]
     },
     "execution_count": 29,
     "metadata": {},
     "output_type": "execute_result"
    }
   ],
   "source": [
    "pre_gs_inst.best_params_"
   ]
  },
  {
   "cell_type": "code",
   "execution_count": 30,
   "id": "e97567aa",
   "metadata": {},
   "outputs": [],
   "source": [
    " param_dist = {\n",
    "             'n_estimators': [100],\n",
    "             'learning_rate' : [0.09,0.095,0.1,0.105,0.11],\n",
    "             'loss' : ['exponential']\n",
    "             }"
   ]
  },
  {
   "cell_type": "code",
   "execution_count": 31,
   "id": "b53f9195",
   "metadata": {},
   "outputs": [],
   "source": [
    "import copy\n",
    "ada_best = copy.deepcopy(pre_gs_inst.best_params_)\n",
    "ada_best['n_estimators'] = 3000"
   ]
  },
  {
   "cell_type": "code",
   "execution_count": 33,
   "id": "3310fc66",
   "metadata": {},
   "outputs": [
    {
     "data": {
      "text/plain": [
       "AdaBoostRegressor(learning_rate=0.1, loss='exponential', n_estimators=3000)"
      ]
     },
     "execution_count": 33,
     "metadata": {},
     "output_type": "execute_result"
    }
   ],
   "source": [
    "rs_ada = AdaBoostRegressor(**ada_best)\n",
    "rs_ada.fit(X_train, y_train)"
   ]
  },
  {
   "cell_type": "code",
   "execution_count": 34,
   "id": "13712c68",
   "metadata": {},
   "outputs": [
    {
     "name": "stdout",
     "output_type": "stream",
     "text": [
      "R-squared -0.26216229344417497\n",
      "MAE :  1.161273566586366\n",
      "MAPE :  0.9313539579601801\n"
     ]
    }
   ],
   "source": [
    "y_pred = rs_ada.predict(X_test)\n",
    "from sklearn.metrics import r2_score, mean_absolute_error\n",
    "print (\"R-squared\",r2_score(y_test, y_pred))\n",
    "print (\"MAE : \",mean_absolute_error(y_test, y_pred))\n",
    "print (\"MAPE : \",(np.abs(y_test - y_pred)/y_test).mean())"
   ]
  },
  {
   "cell_type": "code",
   "execution_count": null,
   "id": "05497b17",
   "metadata": {},
   "outputs": [],
   "source": []
  }
 ],
 "metadata": {
  "kernelspec": {
   "display_name": "Python 3 (ipykernel)",
   "language": "python",
   "name": "python3"
  },
  "language_info": {
   "codemirror_mode": {
    "name": "ipython",
    "version": 3
   },
   "file_extension": ".py",
   "mimetype": "text/x-python",
   "name": "python",
   "nbconvert_exporter": "python",
   "pygments_lexer": "ipython3",
   "version": "3.8.12"
  }
 },
 "nbformat": 4,
 "nbformat_minor": 5
}
