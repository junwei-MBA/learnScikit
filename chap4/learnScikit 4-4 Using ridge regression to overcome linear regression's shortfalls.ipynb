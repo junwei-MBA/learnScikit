{
 "cells": [
  {
   "cell_type": "code",
   "execution_count": 8,
   "id": "c4e0de59",
   "metadata": {},
   "outputs": [],
   "source": [
    "from sklearn.datasets import make_regression\n",
    "reg_data, reg_target = make_regression(n_samples=2000,n_features=3,effective_rank=2, noise=10)"
   ]
  },
  {
   "cell_type": "code",
   "execution_count": 9,
   "id": "26973702",
   "metadata": {},
   "outputs": [],
   "source": [
    "from sklearn.linear_model import LinearRegression\n",
    "lr = LinearRegression()\n",
    "import numpy as np\n",
    "n_bootstraps = 1000\n",
    "len_data = len(reg_data)\n",
    "subsample_size = np.int(0.5*len_data)\n",
    "subsample = lambda: np.random.choice(np.arange(0,\n",
    "len_data),size=subsample_size)\n",
    "coefs = np.ones((n_bootstraps, 3))"
   ]
  },
  {
   "cell_type": "code",
   "execution_count": 10,
   "id": "7cac5926",
   "metadata": {},
   "outputs": [],
   "source": [
    "for i in range(n_bootstraps):\n",
    "      subsample_idx = subsample()\n",
    "      subsample_X = reg_data[subsample_idx]\n",
    "      subsample_y = reg_target[subsample_idx]\n",
    "      lr.fit(subsample_X, subsample_y)\n",
    "      coefs[i][0] = lr.coef_[0]\n",
    "      coefs[i][1] = lr.coef_[1]\n",
    "      coefs[i][2] = lr.coef_[2]"
   ]
  },
  {
   "cell_type": "code",
   "execution_count": 4,
   "id": "3ee895d6",
   "metadata": {},
   "outputs": [],
   "source": [
    "from sklearn.linear_model import Ridge\n",
    "r = Ridge()\n",
    "n_bootstraps = 1000\n",
    "len_data = len(reg_data)\n",
    "subsample_size = np.int(0.5*len_data)\n",
    "subsample = lambda: np.random.choice(np.arange(0,len_data),size=subsample_size)\n",
    "coefs_r = np.ones((n_bootstraps, 3))\n",
    "for i in range(n_bootstraps):\n",
    "  subsample_idx = subsample()\n",
    "  subsample_X = reg_data[subsample_idx]\n",
    "  subsample_y = reg_target[subsample_idx]"
   ]
  },
  {
   "cell_type": "code",
   "execution_count": 5,
   "id": "57d72201",
   "metadata": {},
   "outputs": [],
   "source": [
    "r.fit(subsample_X, subsample_y)\n",
    "coefs_r[i][0] = r.coef_[0]\n",
    "coefs_r[i][1] = r.coef_[1]\n",
    "coefs_r[i][2] = r.coef_[2]"
   ]
  },
  {
   "cell_type": "code",
   "execution_count": 6,
   "id": "dae5e299",
   "metadata": {},
   "outputs": [
    {
     "data": {
      "image/png": "[encoded data removed]",
      "text/plain": [
       "<Figure size 720x360 with 3 Axes>"
      ]
     },
     "metadata": {
      "needs_background": "light"
     },
     "output_type": "display_data"
    }
   ],
   "source": [
    "import matplotlib.pyplot as plt\n",
    "plt.figure(figsize=(10, 5))\n",
    "ax1 = plt.subplot(311, title ='Coef 0')\n",
    "ax1.hist(coefs_r[:,0])\n",
    "ax2 = plt.subplot(312,sharex=ax1, title ='Coef 1')\n",
    "ax2.hist(coefs_r[:,1])\n",
    "ax3 = plt.subplot(313,sharex=ax1, title ='Coef 2')\n",
    "ax3.hist(coefs_r[:,2])\n",
    "plt.tight_layout()"
   ]
  },
  {
   "cell_type": "code",
   "execution_count": 7,
   "id": "9ffdac22",
   "metadata": {},
   "outputs": [
    {
     "data": {
      "text/plain": [
       "array([235.15072933, 258.4406961 , 459.79797369])"
      ]
     },
     "execution_count": 7,
     "metadata": {},
     "output_type": "execute_result"
    }
   ],
   "source": [
    "np.var(coefs, axis=0)"
   ]
  },
  {
   "cell_type": "code",
   "execution_count": 11,
   "id": "5e65cb4b",
   "metadata": {},
   "outputs": [
    {
     "data": {
      "text/plain": [
       "array([0.51870593, 0.01223243, 0.18899636])"
      ]
     },
     "execution_count": 11,
     "metadata": {},
     "output_type": "execute_result"
    }
   ],
   "source": [
    "np.var(coefs_r, axis=0)"
   ]
  },
  {
   "cell_type": "code",
   "execution_count": null,
   "id": "7e844e9a",
   "metadata": {},
   "outputs": [],
   "source": []
  }
 ],
 "metadata": {
  "kernelspec": {
   "display_name": "Python 3 (ipykernel)",
   "language": "python",
   "name": "python3"
  },
  "language_info": {
   "codemirror_mode": {
    "name": "ipython",
    "version": 3
   },
   "file_extension": ".py",
   "mimetype": "text/x-python",
   "name": "python",
   "nbconvert_exporter": "python",
   "pygments_lexer": "ipython3",
   "version": "3.8.12"
  }
 },
 "nbformat": 4,
 "nbformat_minor": 5
}
