{
 "cells": [
  {
   "cell_type": "code",
   "execution_count": 1,
   "id": "6eadaec3",
   "metadata": {},
   "outputs": [],
   "source": [
    "from sklearn.datasets import make_regression\n",
    "X, y = make_regression(int(1e6))  #1,000,000 rows"
   ]
  },
  {
   "cell_type": "code",
   "execution_count": 2,
   "id": "f61ae09b",
   "metadata": {},
   "outputs": [
    {
     "name": "stdout",
     "output_type": "stream",
     "text": [
      "800,000,000\n"
     ]
    }
   ],
   "source": [
    "print (\"{:,}\".format(X.nbytes))"
   ]
  },
  {
   "cell_type": "code",
   "execution_count": 3,
   "id": "e92513d8",
   "metadata": {},
   "outputs": [
    {
     "data": {
      "text/plain": [
       "800.0"
      ]
     },
     "execution_count": 3,
     "metadata": {},
     "output_type": "execute_result"
    }
   ],
   "source": [
    "X.nbytes / 1e6"
   ]
  },
  {
   "cell_type": "code",
   "execution_count": 5,
   "id": "a1b30dfa",
   "metadata": {},
   "outputs": [
    {
     "data": {
      "text/plain": [
       "8.0"
      ]
     },
     "execution_count": 5,
     "metadata": {},
     "output_type": "execute_result"
    }
   ],
   "source": [
    "#the number of bytes per data point is as follows:\n",
    "X.nbytes / (X.shape[0]*X.shape[1])"
   ]
  },
  {
   "cell_type": "code",
   "execution_count": 8,
   "id": "114f56eb",
   "metadata": {},
   "outputs": [
    {
     "data": {
      "text/plain": [
       "SGDRegressor(loss='squared_loss', max_iter=5)"
      ]
     },
     "execution_count": 8,
     "metadata": {},
     "output_type": "execute_result"
    }
   ],
   "source": [
    "from sklearn.linear_model import SGDRegressor\n",
    "import numpy as np\n",
    "sgd = SGDRegressor()\n",
    "train = np.random.choice([True, False], size=len(y), p=[.75, .25])\n",
    "sgd.fit(X[train], y[train])\n",
    "SGDRegressor(alpha=0.0001, average=False, epsilon=0.1, eta0=0.01,fit_intercept=True, l1_ratio=0.15,\n",
    "             learning_rate='invscaling',\n",
    "            loss='squared_loss', max_iter=5, penalty='l2', power_t=0.25,\n",
    "            random_state=None, shuffle=True, verbose=0,\n",
    "     warm_start=False)"
   ]
  },
  {
   "cell_type": "code",
   "execution_count": 9,
   "id": "602b9bf8",
   "metadata": {},
   "outputs": [
    {
     "data": {
      "text/plain": [
       "<AxesSubplot:>"
      ]
     },
     "execution_count": 9,
     "metadata": {},
     "output_type": "execute_result"
    },
    {
     "data": {
      "image/png": "[encoded data removed]",
      "text/plain": [
       "<Figure size 432x288 with 1 Axes>"
      ]
     },
     "metadata": {
      "needs_background": "light"
     },
     "output_type": "display_data"
    }
   ],
   "source": [
    "y_pred = sgd.predict(X[~train])\n",
    "%matplotlib inline\n",
    "import pandas as pd\n",
    "pd.Series(y[~train] - y_pred).hist(bins=50)"
   ]
  },
  {
   "cell_type": "code",
   "execution_count": null,
   "id": "bb390b37",
   "metadata": {},
   "outputs": [],
   "source": []
  }
 ],
 "metadata": {
  "kernelspec": {
   "display_name": "Python 3 (ipykernel)",
   "language": "python",
   "name": "python3"
  },
  "language_info": {
   "codemirror_mode": {
    "name": "ipython",
    "version": 3
   },
   "file_extension": ".py",
   "mimetype": "text/x-python",
   "name": "python",
   "nbconvert_exporter": "python",
   "pygments_lexer": "ipython3",
   "version": "3.8.12"
  }
 },
 "nbformat": 4,
 "nbformat_minor": 5
}
