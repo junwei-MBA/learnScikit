{
 "cells": [
  {
   "cell_type": "code",
   "execution_count": 1,
   "id": "fec2ac8f",
   "metadata": {},
   "outputs": [],
   "source": [
    "import numpy as np\n",
    "from sklearn.metrics import pairwise\n",
    "from sklearn.datasets import make_blobs\n",
    "points, labels = make_blobs()\n"
   ]
  },
  {
   "cell_type": "code",
   "execution_count": 2,
   "id": "16bc1c82",
   "metadata": {},
   "outputs": [],
   "source": [
    "distances = pairwise.pairwise_distances(points)"
   ]
  },
  {
   "cell_type": "code",
   "execution_count": 3,
   "id": "cc65471d",
   "metadata": {},
   "outputs": [
    {
     "data": {
      "text/plain": [
       "array([[0.        , 1.4014236 , 1.47098529, ..., 3.54416437, 1.96050373,\n",
       "        4.85696091],\n",
       "       [1.4014236 , 0.        , 0.1111194 , ..., 4.94343729, 2.54623878,\n",
       "        6.23711321],\n",
       "       [1.47098529, 0.1111194 , 0.        , ..., 5.01513621, 2.5239049 ,\n",
       "        6.31727009],\n",
       "       ...,\n",
       "       [3.54416437, 4.94343729, 5.01513621, ..., 0.        , 3.94984852,\n",
       "        1.42307   ],\n",
       "       [1.96050373, 2.54623878, 2.5239049 , ..., 3.94984852, 0.        ,\n",
       "        5.37157307],\n",
       "       [4.85696091, 6.23711321, 6.31727009, ..., 1.42307   , 5.37157307,\n",
       "        0.        ]])"
      ]
     },
     "execution_count": 3,
     "metadata": {},
     "output_type": "execute_result"
    }
   ],
   "source": [
    "distances"
   ]
  },
  {
   "cell_type": "code",
   "execution_count": 4,
   "id": "3c9d60f0",
   "metadata": {},
   "outputs": [
    {
     "data": {
      "text/plain": [
       "array([0., 0., 0., 0., 0.])"
      ]
     },
     "execution_count": 4,
     "metadata": {},
     "output_type": "execute_result"
    }
   ],
   "source": [
    "np.diag(distances) [:5]"
   ]
  },
  {
   "cell_type": "code",
   "execution_count": 5,
   "id": "7c7d0c63",
   "metadata": {},
   "outputs": [
    {
     "data": {
      "text/plain": [
       "array([0.        , 1.4014236 , 1.47098529, 0.65586175, 3.46927458])"
      ]
     },
     "execution_count": 5,
     "metadata": {},
     "output_type": "execute_result"
    }
   ],
   "source": [
    "distances[0][:5]"
   ]
  },
  {
   "cell_type": "code",
   "execution_count": 6,
   "id": "dcce3d7e",
   "metadata": {},
   "outputs": [
    {
     "data": {
      "text/plain": [
       "array([ 0, 39, 82, 89, 66])"
      ]
     },
     "execution_count": 6,
     "metadata": {},
     "output_type": "execute_result"
    }
   ],
   "source": [
    "ranks = np.argsort(distances[0])\n",
    "ranks[:5]"
   ]
  },
  {
   "cell_type": "code",
   "execution_count": 7,
   "id": "a81a0bed",
   "metadata": {},
   "outputs": [
    {
     "data": {
      "text/plain": [
       "array([[3.80339479, 0.88472034],\n",
       "       [3.9328793 , 1.03917054],\n",
       "       [4.00437059, 0.7786794 ],\n",
       "       [3.52640757, 0.81121379],\n",
       "       [3.54010385, 1.038577  ]])"
      ]
     },
     "execution_count": 7,
     "metadata": {},
     "output_type": "execute_result"
    }
   ],
   "source": [
    "points[ranks][:5]"
   ]
  },
  {
   "cell_type": "code",
   "execution_count": 8,
   "id": "93081b62",
   "metadata": {},
   "outputs": [],
   "source": [
    "sp_points = points[ranks][:5]"
   ]
  },
  {
   "cell_type": "code",
   "execution_count": 9,
   "id": "8a20820d",
   "metadata": {},
   "outputs": [
    {
     "data": {
      "text/plain": [
       "<matplotlib.legend.Legend at 0x7fdd85859b20>"
      ]
     },
     "execution_count": 9,
     "metadata": {},
     "output_type": "execute_result"
    },
    {
     "data": {
      "image/png": "[encoded data removed]",
      "text/plain": [
       "<Figure size 720x504 with 1 Axes>"
      ]
     },
     "metadata": {
      "needs_background": "light"
     },
     "output_type": "display_data"
    }
   ],
   "source": [
    "import matplotlib.pyplot as plt\n",
    "%matplotlib inline\n",
    "plt.figure(figsize=(10,7))\n",
    "plt.scatter(points[:,0], points[:,1], label = 'All Points')\n",
    "plt.scatter(sp_points[:,0],sp_points[:,1],color='red',label='Closest Points')\n",
    "plt.scatter(points[0,0],points[0,1],color='green', label = 'ChosenPoint')\n",
    "plt.legend()"
   ]
  },
  {
   "cell_type": "code",
   "execution_count": 10,
   "id": "db98e977",
   "metadata": {},
   "outputs": [
    {
     "data": {
      "text/plain": [
       "1.4014235958599084"
      ]
     },
     "execution_count": 10,
     "metadata": {},
     "output_type": "execute_result"
    }
   ],
   "source": [
    "def euclid_distances(x, y):\n",
    "    return np.power(np.power(x - y, 2).sum(), .5)\n",
    "euclid_distances(points[0], points[1])"
   ]
  },
  {
   "cell_type": "code",
   "execution_count": 12,
   "id": "ed96182a",
   "metadata": {},
   "outputs": [
    {
     "data": {
      "text/plain": [
       "array([ 0., 10.])"
      ]
     },
     "execution_count": 12,
     "metadata": {},
     "output_type": "execute_result"
    }
   ],
   "source": [
    "pairwise.pairwise_distances([[0, 0], [5, 5]], metric='cityblock')[0]"
   ]
  },
  {
   "cell_type": "code",
   "execution_count": 13,
   "id": "6083ff2f",
   "metadata": {},
   "outputs": [
    {
     "data": {
      "text/plain": [
       "array([[False,  True,  True,  True],\n",
       "       [False,  True,  True, False]])"
      ]
     },
     "execution_count": 13,
     "metadata": {},
     "output_type": "execute_result"
    }
   ],
   "source": [
    "X = np.random.binomial(1, .5, size=(2, 4)).astype(np.bool)\n",
    "X"
   ]
  },
  {
   "cell_type": "code",
   "execution_count": 14,
   "id": "c15337a5",
   "metadata": {},
   "outputs": [
    {
     "data": {
      "text/plain": [
       "array([[0.  , 0.25],\n",
       "       [0.25, 0.  ]])"
      ]
     },
     "execution_count": 14,
     "metadata": {},
     "output_type": "execute_result"
    }
   ],
   "source": [
    "pairwise.pairwise_distances(X, metric='hamming')"
   ]
  },
  {
   "cell_type": "code",
   "execution_count": null,
   "id": "8044b265",
   "metadata": {},
   "outputs": [],
   "source": []
  }
 ],
 "metadata": {
  "kernelspec": {
   "display_name": "Python 3 (ipykernel)",
   "language": "python",
   "name": "python3"
  },
  "language_info": {
   "codemirror_mode": {
    "name": "ipython",
    "version": 3
   },
   "file_extension": ".py",
   "mimetype": "text/x-python",
   "name": "python",
   "nbconvert_exporter": "python",
   "pygments_lexer": "ipython3",
   "version": "3.8.12"
  }
 },
 "nbformat": 4,
 "nbformat_minor": 5
}
