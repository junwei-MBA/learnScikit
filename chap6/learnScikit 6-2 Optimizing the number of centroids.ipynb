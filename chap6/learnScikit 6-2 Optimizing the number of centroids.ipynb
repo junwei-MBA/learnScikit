{
 "cells": [
  {
   "cell_type": "code",
   "execution_count": 4,
   "id": "76229d61",
   "metadata": {},
   "outputs": [
    {
     "data": {
      "text/plain": [
       "KMeans(n_clusters=3)"
      ]
     },
     "execution_count": 4,
     "metadata": {},
     "output_type": "execute_result"
    }
   ],
   "source": [
    "from sklearn.datasets import make_blobs\n",
    "import numpy as np\n",
    "blobs,classes = make_blobs(500,centers=3)\n",
    "from sklearn.cluster import KMeans\n",
    "kmean = KMeans(n_clusters=3)\n",
    "kmean.fit(blobs)\n",
    "KMeans(algorithm='auto', init='k-means++',max_iter=300,n_clusters=3,n_init=10,random_state=None, tol=0.0001,verbose=0)\n"
   ]
  },
  {
   "cell_type": "code",
   "execution_count": 7,
   "id": "63d46b52",
   "metadata": {},
   "outputs": [
    {
     "data": {
      "text/plain": [
       "array([[2.        , 0.73313571],\n",
       "       [2.        , 0.66802938],\n",
       "       [0.        , 0.61164777],\n",
       "       [1.        , 0.84127397],\n",
       "       [2.        , 0.08940303]])"
      ]
     },
     "execution_count": 7,
     "metadata": {},
     "output_type": "execute_result"
    }
   ],
   "source": [
    "from sklearn import metrics\n",
    "silhouette_samples = metrics.silhouette_samples(blobs,kmean.labels_)\n",
    "np.column_stack((classes[:5],silhouette_samples[:5]))"
   ]
  },
  {
   "cell_type": "code",
   "execution_count": 8,
   "id": "8526ec0c",
   "metadata": {},
   "outputs": [
    {
     "data": {
      "text/plain": [
       "0.700597608975519"
      ]
     },
     "execution_count": 8,
     "metadata": {},
     "output_type": "execute_result"
    }
   ],
   "source": [
    "silhouette_samples.mean()"
   ]
  },
  {
   "cell_type": "code",
   "execution_count": 9,
   "id": "adce96a7",
   "metadata": {},
   "outputs": [
    {
     "data": {
      "text/plain": [
       "0.700597608975519"
      ]
     },
     "execution_count": 9,
     "metadata": {},
     "output_type": "execute_result"
    }
   ],
   "source": [
    "metrics.silhouette_score(blobs, kmean.labels_)"
   ]
  },
  {
   "cell_type": "code",
   "execution_count": 10,
   "id": "e95c7781",
   "metadata": {},
   "outputs": [],
   "source": [
    "import matplotlib.pyplot as plt\n",
    "%matplotlib inline"
   ]
  },
  {
   "cell_type": "code",
   "execution_count": 12,
   "id": "b909aee7",
   "metadata": {},
   "outputs": [
    {
     "data": {
      "text/plain": [
       "[<matplotlib.lines.Line2D at 0x7f9119c7f070>]"
      ]
     },
     "execution_count": 12,
     "metadata": {},
     "output_type": "execute_result"
    },
    {
     "data": {
      "image/png": "[encoded data removed]",
      "text/plain": [
       "<Figure size 504x360 with 1 Axes>"
      ]
     },
     "metadata": {
      "needs_background": "light"
     },
     "output_type": "display_data"
    }
   ],
   "source": [
    "blobs, classes = make_blobs(500, centers=10)\n",
    "silhouette_avgs = []\n",
    "for k in range(2, 60):\n",
    "    kmean = KMeans(n_clusters=k).fit(blobs)\n",
    "    silhouette_avgs.append(metrics.silhouette_score(blobs, kmean.labels_))\n",
    "f, ax = plt.subplots(figsize=(7, 5))\n",
    "ax.plot(silhouette_avgs)\n"
   ]
  },
  {
   "cell_type": "code",
   "execution_count": null,
   "id": "2cb65939",
   "metadata": {},
   "outputs": [],
   "source": []
  }
 ],
 "metadata": {
  "kernelspec": {
   "display_name": "Python 3 (ipykernel)",
   "language": "python",
   "name": "python3"
  },
  "language_info": {
   "codemirror_mode": {
    "name": "ipython",
    "version": 3
   },
   "file_extension": ".py",
   "mimetype": "text/x-python",
   "name": "python",
   "nbconvert_exporter": "python",
   "pygments_lexer": "ipython3",
   "version": "3.8.12"
  }
 },
 "nbformat": 4,
 "nbformat_minor": 5
}
