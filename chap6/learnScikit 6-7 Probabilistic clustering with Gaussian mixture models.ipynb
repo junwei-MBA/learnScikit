{
 "cells": [
  {
   "cell_type": "code",
   "execution_count": 1,
   "id": "54478bc2",
   "metadata": {},
   "outputs": [
    {
     "data": {
      "text/plain": [
       "<matplotlib.legend.Legend at 0x7fc6c27db490>"
      ]
     },
     "execution_count": 1,
     "metadata": {},
     "output_type": "execute_result"
    },
    {
     "data": {
      "image/png": "[encoded data removed]",
      "text/plain": [
       "<Figure size 504x360 with 1 Axes>"
      ]
     },
     "metadata": {
      "needs_background": "light"
     },
     "output_type": "display_data"
    }
   ],
   "source": [
    "import numpy as np\n",
    "N = 1000\n",
    "in_m = 72\n",
    "in_w = 66\n",
    "s_m = 2\n",
    "s_w = s_m\n",
    "m = np.random.normal(in_m, s_m, N)\n",
    "w = np.random.normal(in_w, s_w, N)\n",
    "from matplotlib import pyplot as plt\n",
    "%matplotlib inline\n",
    "f, ax = plt.subplots(figsize=(7, 5))\n",
    "ax.set_title(\"Histogram of Heights\")\n",
    "ax.hist(m, alpha=.5, label=\"Men\");\n",
    "ax.hist(w, alpha=.5, label=\"Women\");\n",
    "ax.legend()"
   ]
  },
  {
   "cell_type": "code",
   "execution_count": 2,
   "id": "ab122df3",
   "metadata": {},
   "outputs": [],
   "source": [
    "random_sample = np.random.choice([True, False], size=m.size)\n",
    "m_test = m[random_sample]\n",
    "m_train = m[~random_sample]\n",
    "w_test = w[random_sample]\n",
    "w_train = w[~random_sample]"
   ]
  },
  {
   "cell_type": "code",
   "execution_count": 6,
   "id": "1043f934",
   "metadata": {},
   "outputs": [
    {
     "data": {
      "text/plain": [
       "numpy.ndarray"
      ]
     },
     "execution_count": 6,
     "metadata": {},
     "output_type": "execute_result"
    }
   ],
   "source": [
    "type(random_sample)"
   ]
  },
  {
   "cell_type": "code",
   "execution_count": 7,
   "id": "37f36dc1",
   "metadata": {},
   "outputs": [],
   "source": [
    "count_arr = np.bincount(random_sample)"
   ]
  },
  {
   "cell_type": "code",
   "execution_count": 9,
   "id": "220be77a",
   "metadata": {},
   "outputs": [
    {
     "data": {
      "text/plain": [
       "array([536, 464])"
      ]
     },
     "execution_count": 9,
     "metadata": {},
     "output_type": "execute_result"
    }
   ],
   "source": [
    "count_arr"
   ]
  },
  {
   "cell_type": "code",
   "execution_count": 10,
   "id": "0f3183f8",
   "metadata": {},
   "outputs": [
    {
     "data": {
      "text/plain": [
       "array([464, 536])"
      ]
     },
     "execution_count": 10,
     "metadata": {},
     "output_type": "execute_result"
    }
   ],
   "source": [
    "count_arr2=np.bincount(~random_sample)\n",
    "count_arr2"
   ]
  },
  {
   "cell_type": "code",
   "execution_count": 11,
   "id": "3bc12e98",
   "metadata": {},
   "outputs": [],
   "source": [
    "from scipy import stats\n",
    "m_pdf = stats.norm(m_train.mean(), m_train.std())\n",
    "w_pdf = stats.norm(w_train.mean(), w_train.std())"
   ]
  },
  {
   "cell_type": "code",
   "execution_count": 14,
   "id": "2bc0dcda",
   "metadata": {},
   "outputs": [
    {
     "data": {
      "text/plain": [
       "1.9804740198881219"
      ]
     },
     "execution_count": 14,
     "metadata": {},
     "output_type": "execute_result"
    }
   ],
   "source": [
    "w_train.std()"
   ]
  },
  {
   "cell_type": "code",
   "execution_count": 15,
   "id": "f9bcef44",
   "metadata": {},
   "outputs": [
    {
     "data": {
      "text/plain": [
       "0.15727913397465199"
      ]
     },
     "execution_count": 15,
     "metadata": {},
     "output_type": "execute_result"
    }
   ],
   "source": [
    "m_pdf.pdf(m[0])"
   ]
  },
  {
   "cell_type": "code",
   "execution_count": 16,
   "id": "1e27e787",
   "metadata": {},
   "outputs": [
    {
     "data": {
      "text/plain": [
       "0.012680638695577074"
      ]
     },
     "execution_count": 16,
     "metadata": {},
     "output_type": "execute_result"
    }
   ],
   "source": [
    "w_pdf.pdf(m[0])"
   ]
  },
  {
   "cell_type": "code",
   "execution_count": 30,
   "id": "b12d3f64",
   "metadata": {},
   "outputs": [
    {
     "data": {
      "text/plain": [
       "71.98001290850478"
      ]
     },
     "execution_count": 30,
     "metadata": {},
     "output_type": "execute_result"
    }
   ],
   "source": [
    "np.mean(m)"
   ]
  },
  {
   "cell_type": "code",
   "execution_count": 31,
   "id": "548777cf",
   "metadata": {},
   "outputs": [],
   "source": [
    "guesses_m = np.ones_like(m_test)"
   ]
  },
  {
   "cell_type": "code",
   "execution_count": 33,
   "id": "67c118e7",
   "metadata": {},
   "outputs": [],
   "source": [
    "guesses_m[m_pdf.pdf(m_test)< w_pdf.pdf(m_test)] = 0"
   ]
  },
  {
   "cell_type": "code",
   "execution_count": 34,
   "id": "b2a55d5d",
   "metadata": {},
   "outputs": [
    {
     "data": {
      "text/plain": [
       "0.9137931034482759"
      ]
     },
     "execution_count": 34,
     "metadata": {},
     "output_type": "execute_result"
    }
   ],
   "source": [
    "guesses_m.mean()"
   ]
  },
  {
   "cell_type": "code",
   "execution_count": 35,
   "id": "22e4931c",
   "metadata": {},
   "outputs": [
    {
     "data": {
      "text/plain": [
       "0.9461206896551724"
      ]
     },
     "execution_count": 35,
     "metadata": {},
     "output_type": "execute_result"
    }
   ],
   "source": [
    "guesses_w = np.ones_like(w_test)\n",
    "guesses_w[m_pdf.pdf(w_test) > w_pdf.pdf(w_test)] = 0\n",
    "guesses_w.mean()"
   ]
  },
  {
   "cell_type": "code",
   "execution_count": 38,
   "id": "3b58becf",
   "metadata": {},
   "outputs": [],
   "source": [
    "s_m = 1\n",
    "s_w = 4\n",
    "m = np.random.normal(in_m, s_m, N)\n",
    "w = np.random.normal(in_w, s_w, N)"
   ]
  },
  {
   "cell_type": "code",
   "execution_count": 39,
   "id": "9f366fb4",
   "metadata": {},
   "outputs": [
    {
     "data": {
      "text/plain": [
       "<matplotlib.legend.Legend at 0x7fc6c34c1250>"
      ]
     },
     "execution_count": 39,
     "metadata": {},
     "output_type": "execute_result"
    },
    {
     "data": {
      "image/png": "[encoded data removed]",
      "text/plain": [
       "<Figure size 504x360 with 1 Axes>"
      ]
     },
     "metadata": {
      "needs_background": "light"
     },
     "output_type": "display_data"
    }
   ],
   "source": [
    "m_test = m[random_sample]\n",
    "m_train = m[~random_sample]\n",
    "w_test = w[random_sample]\n",
    "w_train = w[~random_sample]\n",
    "f, ax = plt.subplots(figsize=(7, 5))\n",
    "ax.set_title(\"Histogram of Heights\")\n",
    "ax.hist(m_train, alpha=.5, label=\"Men\");\n",
    "ax.hist(w_train, alpha=.5, label=\"Women\");\n",
    "ax.legend()"
   ]
  },
  {
   "cell_type": "code",
   "execution_count": 40,
   "id": "e9859ce5",
   "metadata": {},
   "outputs": [
    {
     "name": "stderr",
     "output_type": "stream",
     "text": [
      "/var/folders/wk/y2f0j6193x7261zt_mxhmzp80000gn/T/ipykernel_12152/2271198119.py:6: UserWarning: color is redundantly defined by the 'color' keyword argument and the fmt string \"k\" (-> color=(0.0, 0.0, 0.0, 1)). The keyword argument will take precedence.\n",
      "  plt.plot(x, m_pdf.pdf(x), 'k', linewidth=2, color='blue',\n",
      "/var/folders/wk/y2f0j6193x7261zt_mxhmzp80000gn/T/ipykernel_12152/2271198119.py:8: UserWarning: color is redundantly defined by the 'color' keyword argument and the fmt string \"k\" (-> color=(0.0, 0.0, 0.0, 1)). The keyword argument will take precedence.\n",
      "  plt.plot(x, w_pdf.pdf(x), 'k', linewidth=2,\n"
     ]
    },
    {
     "data": {
      "text/plain": [
       "[<matplotlib.lines.Line2D at 0x7fc6c35a8a60>]"
      ]
     },
     "execution_count": 40,
     "metadata": {},
     "output_type": "execute_result"
    },
    {
     "data": {
      "image/png": "[encoded data removed]",
      "text/plain": [
       "<Figure size 576x360 with 1 Axes>"
      ]
     },
     "metadata": {
      "needs_background": "light"
     },
     "output_type": "display_data"
    }
   ],
   "source": [
    "m_pdf = stats.norm(m_train.mean(), m_train.std())\n",
    "w_pdf = stats.norm(w_train.mean(), w_train.std())\n",
    "x = np.linspace(50,80,300)\n",
    "plt.figure(figsize=(8,5))\n",
    "plt.title('PDF of Heights')\n",
    "plt.plot(x, m_pdf.pdf(x), 'k', linewidth=2, color='blue',\n",
    "label='Men')\n",
    "plt.plot(x, w_pdf.pdf(x), 'k', linewidth=2,\n",
    "color='green',label='Women')\n"
   ]
  },
  {
   "cell_type": "code",
   "execution_count": 41,
   "id": "1a2273e7",
   "metadata": {},
   "outputs": [
    {
     "data": {
      "text/plain": [
       "<matplotlib.collections.PathCollection at 0x7fc6c4158b80>"
      ]
     },
     "execution_count": 41,
     "metadata": {},
     "output_type": "execute_result"
    },
    {
     "data": {
      "image/png": "[encoded data removed]",
      "text/plain": [
       "<Figure size 576x360 with 1 Axes>"
      ]
     },
     "metadata": {
      "needs_background": "light"
     },
     "output_type": "display_data"
    }
   ],
   "source": [
    "class_A = np.random.normal(0, 1, size=(100, 2))\n",
    "class_B = np.random.normal(4, 1.5, size=(100, 2))\n",
    "f, ax = plt.subplots(figsize=(8, 5))\n",
    "plt.title('Random 2D Normal Draws')\n",
    "ax.scatter(class_A[:,0], class_A[:,1], label='A', c='r')\n",
    "ax.scatter(class_B[:,0], class_B[:,1], label='B')"
   ]
  },
  {
   "cell_type": "code",
   "execution_count": 42,
   "id": "c019401e",
   "metadata": {},
   "outputs": [],
   "source": [
    "from sklearn.mixture import GaussianMixture\n",
    "gmm = GaussianMixture(n_components=2)\n",
    "X = np.row_stack((class_A, class_B))\n",
    "y = np.hstack((np.ones(100), np.zeros(100)))"
   ]
  },
  {
   "cell_type": "code",
   "execution_count": 43,
   "id": "8a190a21",
   "metadata": {},
   "outputs": [
    {
     "data": {
      "text/plain": [
       "GaussianMixture(n_components=2)"
      ]
     },
     "execution_count": 43,
     "metadata": {},
     "output_type": "execute_result"
    }
   ],
   "source": [
    "train = np.random.choice([True, False], 200)\n",
    "gmm.fit(X[train])\n",
    "GaussianMixture(covariance_type='full', init_params='kmeans', max_iter=100,\n",
    "means_init=None, n_components=2, n_init=1, precisions_init=None,\n",
    "random_state=None, reg_covar=1e-06, tol=0.001, verbose=0,\n",
    "verbose_interval=10, warm_start=False, weights_init=None)"
   ]
  },
  {
   "cell_type": "code",
   "execution_count": 44,
   "id": "107bd664",
   "metadata": {},
   "outputs": [
    {
     "data": {
      "text/plain": [
       "array([1, 1, 1, 1, 1])"
      ]
     },
     "execution_count": 44,
     "metadata": {},
     "output_type": "execute_result"
    }
   ],
   "source": [
    "gmm.fit(X[train])\n",
    "gmm.predict(X[train])[:5]"
   ]
  },
  {
   "cell_type": "code",
   "execution_count": null,
   "id": "157a86c1",
   "metadata": {},
   "outputs": [],
   "source": []
  }
 ],
 "metadata": {
  "kernelspec": {
   "display_name": "Python 3 (ipykernel)",
   "language": "python",
   "name": "python3"
  },
  "language_info": {
   "codemirror_mode": {
    "name": "ipython",
    "version": 3
   },
   "file_extension": ".py",
   "mimetype": "text/x-python",
   "name": "python",
   "nbconvert_exporter": "python",
   "pygments_lexer": "ipython3",
   "version": "3.8.12"
  }
 },
 "nbformat": 4,
 "nbformat_minor": 5
}
