{
 "cells": [
  {
   "cell_type": "code",
   "execution_count": 1,
   "id": "040a3766",
   "metadata": {},
   "outputs": [],
   "source": [
    "from __future__ import division\n",
    "import numpy as np\n",
    "import pandas as pd\n",
    "import matplotlib.pyplot as plt\n",
    "from sklearn.datasets import fetch_california_housing\n",
    "#From within an ipython notebook\n",
    "%matplotlib inline\n",
    "cali_housing = fetch_california_housing()\n",
    "X = cali_housing.data\n",
    "y = cali_housing.target"
   ]
  },
  {
   "cell_type": "code",
   "execution_count": 2,
   "id": "958b6876",
   "metadata": {},
   "outputs": [],
   "source": [
    "bins = np.arange(6)\n",
    "binned_y = np.digitize(y, bins)"
   ]
  },
  {
   "cell_type": "code",
   "execution_count": 3,
   "id": "7c83ea90",
   "metadata": {},
   "outputs": [],
   "source": [
    "from sklearn.model_selection import train_test_split\n",
    "X_train_prin, X_test_prin, y_train_prin, y_test_prin = train_test_split(X,y,test_size=0.2,stratify=binned_y,random_state=7)\n",
    "binned_y_train_prin = np.digitize(y_train_prin, bins)\n",
    "X_1, X_stack, y_1, y_stack =train_test_split(X_train_prin,y_train_prin,test_size=0.33,stratify=binned_y_train_prin,random_state=7)\n"
   ]
  },
  {
   "cell_type": "markdown",
   "id": "7361c2cc",
   "metadata": {},
   "source": [
    "### First base model neural network"
   ]
  },
  {
   "cell_type": "code",
   "execution_count": 4,
   "id": "dfcb831a",
   "metadata": {},
   "outputs": [
    {
     "data": {
      "text/plain": [
       "GridSearchCV(cv=3,\n",
       "             estimator=Pipeline(steps=[('scale', StandardScaler()),\n",
       "                                       ('neural_net', MLPRegressor())]),\n",
       "             n_jobs=-1,\n",
       "             param_grid={'neural_net__activation': ['relu'],\n",
       "                         'neural_net__alpha': [0.02, 0.01, 0.005],\n",
       "                         'neural_net__hidden_layer_sizes': [(50, 50, 50)],\n",
       "                         'neural_net__solver': ['adam']})"
      ]
     },
     "execution_count": 4,
     "metadata": {},
     "output_type": "execute_result"
    }
   ],
   "source": [
    "from sklearn.model_selection import GridSearchCV\n",
    "from sklearn.neural_network import MLPRegressor\n",
    "from sklearn.pipeline import Pipeline\n",
    "from sklearn.preprocessing import StandardScaler\n",
    "mlp_pipe = Pipeline(steps=[('scale', StandardScaler()),\n",
    "('neural_net', MLPRegressor())])\n",
    "param_grid = {'neural_net__alpha': [0.02,0.01,0.005],\n",
    "               'neural_net__hidden_layer_sizes' : [(50,50,50)],\n",
    "               'neural_net__activation': ['relu'],\n",
    "               'neural_net__solver' : ['adam']\n",
    "               }\n",
    "neural_net_gs = GridSearchCV(mlp_pipe, param_grid = param_grid,cv=3, n_jobs=-1)\n",
    "neural_net_gs.fit(X_1, y_1)"
   ]
  },
  {
   "cell_type": "code",
   "execution_count": 5,
   "id": "0fc7ef83",
   "metadata": {},
   "outputs": [
    {
     "data": {
      "text/plain": [
       "{'neural_net__activation': 'relu',\n",
       " 'neural_net__alpha': 0.02,\n",
       " 'neural_net__hidden_layer_sizes': (50, 50, 50),\n",
       " 'neural_net__solver': 'adam'}"
      ]
     },
     "execution_count": 5,
     "metadata": {},
     "output_type": "execute_result"
    }
   ],
   "source": [
    "neural_net_gs.best_params_"
   ]
  },
  {
   "cell_type": "code",
   "execution_count": 6,
   "id": "71b8c6e1",
   "metadata": {},
   "outputs": [
    {
     "data": {
      "text/plain": [
       "0.7816385770866708"
      ]
     },
     "execution_count": 6,
     "metadata": {},
     "output_type": "execute_result"
    }
   ],
   "source": [
    "neural_net_gs.best_score_"
   ]
  },
  {
   "cell_type": "code",
   "execution_count": 7,
   "id": "c2df4ec2",
   "metadata": {},
   "outputs": [],
   "source": [
    "nn_best = neural_net_gs.best_estimator_"
   ]
  },
  {
   "cell_type": "code",
   "execution_count": 8,
   "id": "2bf4ba9a",
   "metadata": {},
   "outputs": [],
   "source": [
    "import pickle\n",
    "f = open('nn_best.save', 'wb')\n",
    "pickle.dump(nn_best, f, protocol = pickle.HIGHEST_PROTOCOL)\n",
    "f.close()"
   ]
  },
  {
   "cell_type": "markdown",
   "id": "3a745bec",
   "metadata": {},
   "source": [
    "### Second base model – gradient boost ensemble"
   ]
  },
  {
   "cell_type": "code",
   "execution_count": 9,
   "id": "8b358333",
   "metadata": {},
   "outputs": [],
   "source": [
    "from sklearn.model_selection import RandomizedSearchCV\n",
    "from sklearn.ensemble import GradientBoostingRegressor"
   ]
  },
  {
   "cell_type": "code",
   "execution_count": 10,
   "id": "83a41955",
   "metadata": {},
   "outputs": [
    {
     "data": {
      "text/plain": [
       "RandomizedSearchCV(cv=3, estimator=GradientBoostingRegressor(), n_iter=25,\n",
       "                   n_jobs=-1,\n",
       "                   param_distributions={'learning_rate': [0.1, 0.05, 0.03,\n",
       "                                                          0.01],\n",
       "                                        'loss': ['huber'],\n",
       "                                        'max_depth': [5, 7, 10],\n",
       "                                        'max_features': [0.4, 0.6, 0.8, 1.0],\n",
       "                                        'min_samples_leaf': [2, 3, 5],\n",
       "                                        'n_estimators': [100],\n",
       "                                        'random_state': [7],\n",
       "                                        'warm_start': [True]})"
      ]
     },
     "execution_count": 10,
     "metadata": {},
     "output_type": "execute_result"
    }
   ],
   "source": [
    "param_grid = {'learning_rate': [0.1,0.05,0.03,0.01],\n",
    "           'loss': ['huber'],\n",
    "           'max_depth': [5,7,10],\n",
    "           'max_features': [0.4,0.6,0.8,1.0],\n",
    "           'min_samples_leaf': [2,3,5],\n",
    "           'n_estimators': [100],\n",
    "           'warm_start': [True], 'random_state':[7]\n",
    "           }\n",
    "boost_gs = RandomizedSearchCV(GradientBoostingRegressor(),param_distributions = param_grid,cv=3, n_jobs=-1,n_iter=25)\n",
    "boost_gs.fit(X_1, y_1)\n",
    "#注意这一步耗时很久，大概有15分钟左右"
   ]
  },
  {
   "cell_type": "code",
   "execution_count": 11,
   "id": "b7f88853",
   "metadata": {},
   "outputs": [
    {
     "data": {
      "text/plain": [
       "0.8250732670290075"
      ]
     },
     "execution_count": 11,
     "metadata": {},
     "output_type": "execute_result"
    }
   ],
   "source": [
    "boost_gs.best_score_"
   ]
  },
  {
   "cell_type": "code",
   "execution_count": 12,
   "id": "38e978e5",
   "metadata": {},
   "outputs": [
    {
     "data": {
      "text/plain": [
       "{'warm_start': True,\n",
       " 'random_state': 7,\n",
       " 'n_estimators': 100,\n",
       " 'min_samples_leaf': 5,\n",
       " 'max_features': 0.4,\n",
       " 'max_depth': 10,\n",
       " 'loss': 'huber',\n",
       " 'learning_rate': 0.1}"
      ]
     },
     "execution_count": 12,
     "metadata": {},
     "output_type": "execute_result"
    }
   ],
   "source": [
    "boost_gs.best_params_"
   ]
  },
  {
   "cell_type": "code",
   "execution_count": 13,
   "id": "5617cc16",
   "metadata": {},
   "outputs": [],
   "source": [
    "gbt_inst = GradientBoostingRegressor(**{'learning_rate': 0.1,\n",
    "             'loss': 'huber',\n",
    "             'max_depth': 10,\n",
    "             'max_features': 0.4,\n",
    "             'min_samples_leaf': 5,\n",
    "             'n_estimators': 4000,\n",
    "             'warm_start': True, 'random_state':7}).fit(X_1, y_1)"
   ]
  },
  {
   "cell_type": "code",
   "execution_count": 14,
   "id": "018c040c",
   "metadata": {},
   "outputs": [],
   "source": [
    "def pickle_func(filename, saved_object):\n",
    "     import pickle\n",
    "     f = open(filename, 'wb')\n",
    "     pickle.dump(saved_object, f, protocol = pickle.HIGHEST_PROTOCOL)\n",
    "     f.close()\n",
    "     return None\n",
    "pickle_func('grad_boost.save', gbt_inst)"
   ]
  },
  {
   "cell_type": "markdown",
   "id": "332048bb",
   "metadata": {},
   "source": [
    "### Third base model – bagging regressor of gradient boost ensembles"
   ]
  },
  {
   "cell_type": "code",
   "execution_count": 15,
   "id": "5142eecb",
   "metadata": {},
   "outputs": [
    {
     "data": {
      "text/plain": [
       "RandomizedSearchCV(cv=3,\n",
       "                   estimator=BaggingRegressor(base_estimator=GradientBoostingRegressor(loss='huber',\n",
       "                                                                                       max_depth=10,\n",
       "                                                                                       max_features=0.4,\n",
       "                                                                                       n_estimators=20,\n",
       "                                                                                       random_state=7,\n",
       "                                                                                       warm_start=True)),\n",
       "                   n_iter=5, n_jobs=-1,\n",
       "                   param_distributions={'base_estimator__min_samples_leaf': [4,\n",
       "                                                                             5],\n",
       "                                        'max_features': [0.5, 1.0],\n",
       "                                        'max_samples': [0.5, 1.0],\n",
       "                                        'n_estimators': [20],\n",
       "                                        'oob_score': [True, False]})"
      ]
     },
     "execution_count": 15,
     "metadata": {},
     "output_type": "execute_result"
    },
    {
     "name": "stderr",
     "output_type": "stream",
     "text": [
      "/Users/junwei1/opt/anaconda3/envs/mlfinlab/lib/python3.8/site-packages/sklearn/ensemble/_bagging.py:1069: UserWarning: Some inputs do not have OOB scores. This probably means too few estimators were used to compute any reliable oob estimates.\n",
      "  warn(\"Some inputs do not have OOB scores. \"\n",
      "/Users/junwei1/opt/anaconda3/envs/mlfinlab/lib/python3.8/site-packages/sklearn/ensemble/_bagging.py:1069: UserWarning: Some inputs do not have OOB scores. This probably means too few estimators were used to compute any reliable oob estimates.\n",
      "  warn(\"Some inputs do not have OOB scores. \"\n"
     ]
    }
   ],
   "source": [
    "from sklearn.ensemble import BaggingRegressor,GradientBoostingRegressor\n",
    "from sklearn.model_selection import RandomizedSearchCV\n",
    "param_dist = {\n",
    "  'max_samples': [0.5,1.0],\n",
    "  'max_features' : [0.5,1.0],\n",
    "  'oob_score' : [True, False],\n",
    "  'base_estimator__min_samples_leaf': [4,5],\n",
    "  'n_estimators': [20]\n",
    "}\n",
    "single_estimator = GradientBoostingRegressor(**{'learning_rate':0.1,\n",
    "    'loss': 'huber',\n",
    "    'max_depth': 10,\n",
    "    'max_features': 0.4,\n",
    "    'n_estimators': 20,\n",
    "    'warm_start': True, 'random_state':7})\n",
    "ensemble_estimator = BaggingRegressor(base_estimator =single_estimator)\n",
    "pre_gs_inst_bag = RandomizedSearchCV(ensemble_estimator,param_distributions = param_dist,\n",
    "    cv=3,\n",
    "    n_iter = 5,\n",
    "    n_jobs=-1)\n",
    "pre_gs_inst_bag.fit(X_1, y_1)"
   ]
  },
  {
   "cell_type": "code",
   "execution_count": 16,
   "id": "4ff2c310",
   "metadata": {},
   "outputs": [
    {
     "data": {
      "text/plain": [
       "0.7735076481942181"
      ]
     },
     "execution_count": 16,
     "metadata": {},
     "output_type": "execute_result"
    }
   ],
   "source": [
    " pre_gs_inst_bag.best_score_"
   ]
  },
  {
   "cell_type": "code",
   "execution_count": 17,
   "id": "7bb3e018",
   "metadata": {},
   "outputs": [
    {
     "data": {
      "text/plain": [
       "{'oob_score': True,\n",
       " 'n_estimators': 20,\n",
       " 'max_samples': 0.5,\n",
       " 'max_features': 1.0,\n",
       " 'base_estimator__min_samples_leaf': 4}"
      ]
     },
     "execution_count": 17,
     "metadata": {},
     "output_type": "execute_result"
    }
   ],
   "source": [
    "pre_gs_inst_bag.best_params_"
   ]
  },
  {
   "cell_type": "code",
   "execution_count": 18,
   "id": "f59f5b34",
   "metadata": {},
   "outputs": [],
   "source": [
    "pickle_func('bag_gbm.save', pre_gs_inst_bag.best_estimator_)"
   ]
  },
  {
   "cell_type": "markdown",
   "id": "75d782e1",
   "metadata": {},
   "source": [
    "### Some functions of the stacker"
   ]
  },
  {
   "cell_type": "code",
   "execution_count": 19,
   "id": "798b56c5",
   "metadata": {},
   "outputs": [],
   "source": [
    "def handle_X_set(X_train_set_in):\n",
    "    X_train_set = X_train_set_in.copy()\n",
    "    y_pred_nn = neural_net.predict(X_train_set)\n",
    "    y_pred_gbt = gbt.predict(X_train_set)\n",
    "    y_pred_bag = bag_gbm.predict(X_train_set)\n",
    "    preds_df = pd.DataFrame(columns = ['nn', 'gbt','bag'])\n",
    "    preds_df['nn'] = y_pred_nn\n",
    "    preds_df['gbt'] = y_pred_gbt\n",
    "    preds_df['bag'] = y_pred_bag\n",
    "    return preds_df\n",
    "def predict_from_X_set(X_train_set_in):\n",
    "    X_train_set = X_train_set_in.copy()\n",
    "    return final_etr.predict(handle_X_set(X_train_set))"
   ]
  },
  {
   "cell_type": "code",
   "execution_count": 20,
   "id": "23d95694",
   "metadata": {},
   "outputs": [],
   "source": [
    "def pickle_load_func(filename):\n",
    "    f = open(filename, 'rb')\n",
    "    to_return = pickle.load(f)\n",
    "    f.close()\n",
    "    return to_return\n",
    "neural_net = pickle_load_func('nn_best.save')\n",
    "gbt = pickle_load_func('grad_boost.save')\n",
    "bag_gbm = pickle_load_func('bag_gbm.save')"
   ]
  },
  {
   "cell_type": "code",
   "execution_count": 21,
   "id": "ff21e867",
   "metadata": {},
   "outputs": [
    {
     "name": "stdout",
     "output_type": "stream",
     "text": [
      "           nn       gbt       bag\n",
      "nn   1.000000  0.954076  0.959999\n",
      "gbt  0.954076  1.000000  0.978489\n",
      "bag  0.959999  0.978489  1.000000\n"
     ]
    }
   ],
   "source": [
    "preds_df = handle_X_set(X_stack)\n",
    "print (preds_df.corr())"
   ]
  },
  {
   "cell_type": "markdown",
   "id": "dddf1bc7",
   "metadata": {},
   "source": [
    "### Meta-learner – extra trees regressor"
   ]
  },
  {
   "cell_type": "code",
   "execution_count": 22,
   "id": "1b404b96",
   "metadata": {},
   "outputs": [
    {
     "data": {
      "text/plain": [
       "RandomizedSearchCV(cv=3,\n",
       "                   estimator=ExtraTreesRegressor(bootstrap=True, random_state=7,\n",
       "                                                 warm_start=True),\n",
       "                   n_iter=15,\n",
       "                   param_distributions={'max_features': ['sqrt', 'log2', 1.0],\n",
       "                                        'min_samples_leaf': [1, 2, 3, 7, 11],\n",
       "                                        'n_estimators': [50, 100],\n",
       "                                        'oob_score': [True, False]},\n",
       "                   random_state=7)"
      ]
     },
     "execution_count": 22,
     "metadata": {},
     "output_type": "execute_result"
    }
   ],
   "source": [
    "from sklearn.ensemble import ExtraTreesRegressor\n",
    "from sklearn.model_selection import RandomizedSearchCV\n",
    "param_dist = {'max_features' : ['sqrt','log2',1.0],\n",
    "    'min_samples_leaf' : [1, 2, 3, 7, 11],\n",
    "    'n_estimators': [50, 100],\n",
    "    'oob_score': [True, False]}\n",
    "pre_gs_inst = RandomizedSearchCV(ExtraTreesRegressor(warm_start=True,bootstrap=True,random_state=7),\n",
    "param_distributions = param_dist,\n",
    "    cv=3,\n",
    "    n_iter = 15,random_state=7)\n",
    "pre_gs_inst.fit(preds_df.values, y_stack)"
   ]
  },
  {
   "cell_type": "code",
   "execution_count": null,
   "id": "25732cec",
   "metadata": {},
   "outputs": [],
   "source": []
  }
 ],
 "metadata": {
  "kernelspec": {
   "display_name": "Python 3 (ipykernel)",
   "language": "python",
   "name": "python3"
  },
  "language_info": {
   "codemirror_mode": {
    "name": "ipython",
    "version": 3
   },
   "file_extension": ".py",
   "mimetype": "text/x-python",
   "name": "python",
   "nbconvert_exporter": "python",
   "pygments_lexer": "ipython3",
   "version": "3.8.12"
  }
 },
 "nbformat": 4,
 "nbformat_minor": 5
}
