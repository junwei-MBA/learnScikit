{
 "cells": [
  {
   "cell_type": "code",
   "execution_count": 16,
   "id": "c7b6a069",
   "metadata": {},
   "outputs": [],
   "source": [
    "import numpy as np\n",
    "import pandas as pd\n",
    "data_web_address =\"./diabetes.csv\"\n",
    "column_names =['pregnancy_x',\n",
    "    'plasma_con',\n",
    "    'blood_pressure',\n",
    "    'skin_mm',\n",
    "    'insulin',\n",
    "    'bmi',\n",
    "    'pedigree_func',\n",
    "    'age',\n",
    "    'target']\n",
    "feature_names = column_names[:-1]\n",
    "all_data = pd.read_csv(data_web_address , names=column_names)\n",
    "all_data=all_data.drop([0])\n",
    "X = all_data[feature_names]\n",
    "y = all_data['target']"
   ]
  },
  {
   "cell_type": "code",
   "execution_count": 17,
   "id": "d9448056",
   "metadata": {},
   "outputs": [],
   "source": [
    "from sklearn.model_selection import train_test_split\n",
    "X_train, X_test, y_train, y_test = train_test_split(X, y,test_size=0.2, random_state=42)"
   ]
  },
  {
   "cell_type": "code",
   "execution_count": 18,
   "id": "b3e03464",
   "metadata": {},
   "outputs": [],
   "source": [
    "from sklearn.preprocessing import StandardScaler\n",
    "scaler = StandardScaler()\n",
    "scaler.fit(X_train)\n",
    "X_train_scaled = scaler.transform(X_train)\n",
    "X_test_scaled = scaler.transform(X_test)"
   ]
  },
  {
   "cell_type": "code",
   "execution_count": 21,
   "id": "3da5cb1b",
   "metadata": {},
   "outputs": [
    {
     "data": {
      "text/plain": [
       "Perceptron(max_iter=5, n_jobs=1)"
      ]
     },
     "execution_count": 21,
     "metadata": {},
     "output_type": "execute_result"
    }
   ],
   "source": [
    "from sklearn.linear_model import Perceptron\n",
    "pr = Perceptron()\n",
    "pr.fit(X_train_scaled, y_train)\n",
    "Perceptron(alpha=0.0001, class_weight=None, eta0=1.0,\n",
    "    fit_intercept=True,\n",
    "     max_iter=5, n_jobs=1, penalty=None, random_state=0, shuffle=True,\n",
    "     verbose=0, warm_start=False)"
   ]
  },
  {
   "cell_type": "code",
   "execution_count": 22,
   "id": "2dcae987",
   "metadata": {},
   "outputs": [
    {
     "data": {
      "text/plain": [
       "0.7130531289333276"
      ]
     },
     "execution_count": 22,
     "metadata": {},
     "output_type": "execute_result"
    }
   ],
   "source": [
    "from sklearn.model_selection import cross_val_score,StratifiedKFold\n",
    "skf = StratifiedKFold(n_splits=3)\n",
    "cross_val_score(pr, X_train_scaled, y_train,\n",
    "cv=skf,scoring='roc_auc').mean()"
   ]
  },
  {
   "cell_type": "code",
   "execution_count": 23,
   "id": "cf628c40",
   "metadata": {},
   "outputs": [
    {
     "name": "stdout",
     "output_type": "stream",
     "text": [
      "Classification accuracy :  0.6753246753246753\n",
      "ROC-AUC Score :  0.602020202020202\n"
     ]
    },
    {
     "name": "stderr",
     "output_type": "stream",
     "text": [
      "/Users/junwei1/opt/anaconda3/envs/mlfinlab/lib/python3.8/site-packages/sklearn/utils/validation.py:63: FutureWarning: Arrays of bytes/strings is being converted to decimal numbers if dtype='numeric'. This behavior is deprecated in 0.24 and will be removed in 1.1 (renaming of 0.26). Please convert your data to numeric values explicitly instead.\n",
      "  return f(*args, **kwargs)\n"
     ]
    }
   ],
   "source": [
    "from sklearn.metrics import accuracy_score, roc_auc_score\n",
    "print (\"Classification accuracy : \", accuracy_score(y_test,pr.predict(X_test_scaled)))\n",
    "print (\"ROC-AUC Score : \",roc_auc_score(y_test,pr.predict(X_test_scaled)))"
   ]
  },
  {
   "cell_type": "code",
   "execution_count": 24,
   "id": "ffea8205",
   "metadata": {},
   "outputs": [],
   "source": [
    "from sklearn.model_selection import GridSearchCV\n",
    "param_dist = {'alpha': [0.1,0.01,0.001,0.0001],\n",
    "    'penalty': [None, 'l2','l1','elasticnet'],\n",
    "    'random_state': [7],\n",
    "    'class_weight':['balanced',None],'eta0': [0.25,0.5,0.75,1.0],\n",
    "    'warm_start':[True,False], 'max_iter':[50], 'tol':[1e-3]}\n",
    "gs_perceptron = GridSearchCV(pr, param_dist, scoring='roc_auc',cv=skf).fit(X_train_scaled, y_train)"
   ]
  },
  {
   "cell_type": "code",
   "execution_count": 25,
   "id": "69fa5e6f",
   "metadata": {},
   "outputs": [
    {
     "data": {
      "text/plain": [
       "{'alpha': 0.0001,\n",
       " 'class_weight': 'balanced',\n",
       " 'eta0': 0.5,\n",
       " 'max_iter': 50,\n",
       " 'penalty': 'elasticnet',\n",
       " 'random_state': 7,\n",
       " 'tol': 0.001,\n",
       " 'warm_start': True}"
      ]
     },
     "execution_count": 25,
     "metadata": {},
     "output_type": "execute_result"
    }
   ],
   "source": [
    "gs_perceptron.best_params_"
   ]
  },
  {
   "cell_type": "code",
   "execution_count": 26,
   "id": "2c2f2af7",
   "metadata": {},
   "outputs": [
    {
     "data": {
      "text/plain": [
       "0.8025511013185685"
      ]
     },
     "execution_count": 26,
     "metadata": {},
     "output_type": "execute_result"
    }
   ],
   "source": [
    "gs_perceptron.best_score_"
   ]
  },
  {
   "cell_type": "code",
   "execution_count": 27,
   "id": "52ac15a3",
   "metadata": {},
   "outputs": [],
   "source": [
    "best_perceptron = gs_perceptron.best_estimator_"
   ]
  },
  {
   "cell_type": "code",
   "execution_count": 30,
   "id": "99adbb6f",
   "metadata": {},
   "outputs": [],
   "source": [
    "from sklearn.ensemble import BaggingClassifier\n",
    "from sklearn.ensemble import BaggingClassifier\n",
    "param_dist = {\n",
    "    'max_samples': [0.5,1.0],\n",
    "    'max_features' : [0.5,1.0],\n",
    "    'oob_score' : [True, False],\n",
    "    'n_estimators': [100],\n",
    "    'n_jobs':[-1],\n",
    "    'base_estimator__alpha': [0.001,0.002],\n",
    "    'base_estimator__penalty': [None, 'l2','l1','elasticnet'], }\n",
    "ensemble_estimator = BaggingClassifier(base_estimator = best_perceptron)\n",
    "bag_perceptrons = GridSearchCV(ensemble_estimator,param_dist,scoring='roc_auc',cv=skf,n_jobs=-1).fit(X_train_scaled, y_train)"
   ]
  },
  {
   "cell_type": "code",
   "execution_count": 31,
   "id": "8eaa039a",
   "metadata": {},
   "outputs": [
    {
     "data": {
      "text/plain": [
       "0.8363677745973089"
      ]
     },
     "execution_count": 31,
     "metadata": {},
     "output_type": "execute_result"
    }
   ],
   "source": [
    "bag_perceptrons.best_score_"
   ]
  },
  {
   "cell_type": "code",
   "execution_count": 32,
   "id": "4827108c",
   "metadata": {},
   "outputs": [
    {
     "data": {
      "text/plain": [
       "{'base_estimator__alpha': 0.002,\n",
       " 'base_estimator__penalty': 'elasticnet',\n",
       " 'max_features': 1.0,\n",
       " 'max_samples': 0.5,\n",
       " 'n_estimators': 100,\n",
       " 'n_jobs': -1,\n",
       " 'oob_score': True}"
      ]
     },
     "execution_count": 32,
     "metadata": {},
     "output_type": "execute_result"
    }
   ],
   "source": [
    "bag_perceptrons.best_params_"
   ]
  },
  {
   "cell_type": "code",
   "execution_count": null,
   "id": "c199f91c",
   "metadata": {},
   "outputs": [],
   "source": []
  }
 ],
 "metadata": {
  "kernelspec": {
   "display_name": "Python 3 (ipykernel)",
   "language": "python",
   "name": "python3"
  },
  "language_info": {
   "codemirror_mode": {
    "name": "ipython",
    "version": 3
   },
   "file_extension": ".py",
   "mimetype": "text/x-python",
   "name": "python",
   "nbconvert_exporter": "python",
   "pygments_lexer": "ipython3",
   "version": "3.8.12"
  }
 },
 "nbformat": 4,
 "nbformat_minor": 5
}
