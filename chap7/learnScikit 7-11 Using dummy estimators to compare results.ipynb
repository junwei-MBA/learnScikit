{
 "cells": [
  {
   "cell_type": "code",
   "execution_count": 4,
   "id": "439f8383",
   "metadata": {},
   "outputs": [
    {
     "data": {
      "text/plain": [
       "DummyRegressor()"
      ]
     },
     "execution_count": 4,
     "metadata": {},
     "output_type": "execute_result"
    }
   ],
   "source": [
    "from sklearn.datasets import make_regression, make_classification\n",
    "X, y = make_regression()\n",
    "from sklearn import dummy\n",
    "dumdum = dummy.DummyRegressor()\n",
    "dumdum.fit(X, y)\n"
   ]
  },
  {
   "cell_type": "code",
   "execution_count": 5,
   "id": "f6d5484f",
   "metadata": {},
   "outputs": [
    {
     "data": {
      "text/plain": [
       "array([36.49580211, 36.49580211, 36.49580211, 36.49580211, 36.49580211])"
      ]
     },
     "execution_count": 5,
     "metadata": {},
     "output_type": "execute_result"
    }
   ],
   "source": [
    "dumdum.predict(X)[:5]"
   ]
  },
  {
   "cell_type": "code",
   "execution_count": 7,
   "id": "f5bd4e32",
   "metadata": {},
   "outputs": [
    {
     "name": "stdout",
     "output_type": "stream",
     "text": [
      "strategy: mean 36.495802110018374,36.495802110018374,36.495802110018374,36.495802110018374,36.495802110018374\n",
      "strategy: median 46.18965517937471,46.18965517937471,46.18965517937471,46.18965517937471,46.18965517937471\n",
      "strategy: constant 10,10,10,10,10\n"
     ]
    }
   ],
   "source": [
    "predictors = [(\"mean\", None),\n",
    "            (\"median\", None),\n",
    "            (\"constant\", 10)]\n",
    "for strategy, constant in predictors:\n",
    "      dumdum = dummy.DummyRegressor(strategy=strategy,\n",
    "      constant=constant)\n",
    "      dumdum.fit(X, y)\n",
    "      print(\"strategy: {}\".format(strategy), \",\".join(map(str,dumdum.predict(X)[:5])))"
   ]
  },
  {
   "cell_type": "code",
   "execution_count": 8,
   "id": "4d0eba8e",
   "metadata": {},
   "outputs": [
    {
     "name": "stdout",
     "output_type": "stream",
     "text": [
      "strategy: constant 0,0,0,0,0\n",
      "strategy: stratified 0,0,1,1,0\n",
      "strategy: uniform 0,1,0,0,1\n",
      "strategy: most_frequent 0,0,0,0,0\n"
     ]
    }
   ],
   "source": [
    "predictors = [(\"constant\", 0),(\"stratified\", None),(\"uniform\",None),(\"most_frequent\", None)]\n",
    "#We'll also need to create some classification data:\n",
    "X, y = make_classification()\n",
    "for strategy, constant in predictors:\n",
    "     dumdum = dummy.DummyClassifier(strategy=strategy,constant=constant)\n",
    "     dumdum.fit(X, y)\n",
    "     print (\"strategy: {}\".format(strategy),\",\".join(map(str,dumdum.predict(X)[:5])))"
   ]
  },
  {
   "cell_type": "code",
   "execution_count": 9,
   "id": "b9070fa1",
   "metadata": {},
   "outputs": [
    {
     "data": {
      "text/plain": [
       "DummyClassifier(strategy='most_frequent')"
      ]
     },
     "execution_count": 9,
     "metadata": {},
     "output_type": "execute_result"
    }
   ],
   "source": [
    "X, y = make_classification(20000, weights=[.95, .05])\n",
    "dumdum = dummy.DummyClassifier(strategy='most_frequent')\n",
    "dumdum.fit(X, y)\n"
   ]
  },
  {
   "cell_type": "code",
   "execution_count": 10,
   "id": "a7536733",
   "metadata": {},
   "outputs": [
    {
     "name": "stdout",
     "output_type": "stream",
     "text": [
      "0.945\n"
     ]
    }
   ],
   "source": [
    "from sklearn.metrics import accuracy_score\n",
    "print (accuracy_score(y, dumdum.predict(X)))"
   ]
  },
  {
   "cell_type": "code",
   "execution_count": null,
   "id": "d02cac04",
   "metadata": {},
   "outputs": [],
   "source": []
  }
 ],
 "metadata": {
  "kernelspec": {
   "display_name": "Python 3 (ipykernel)",
   "language": "python",
   "name": "python3"
  },
  "language_info": {
   "codemirror_mode": {
    "name": "ipython",
    "version": 3
   },
   "file_extension": ".py",
   "mimetype": "text/x-python",
   "name": "python",
   "nbconvert_exporter": "python",
   "pygments_lexer": "ipython3",
   "version": "3.8.12"
  }
 },
 "nbformat": 4,
 "nbformat_minor": 5
}
