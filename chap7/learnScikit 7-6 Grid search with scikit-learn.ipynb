{
 "cells": [
  {
   "cell_type": "code",
   "execution_count": 2,
   "id": "3c395be3",
   "metadata": {},
   "outputs": [],
   "source": [
    "from sklearn import datasets\n",
    "iris = datasets.load_iris()\n",
    "X = iris.data[:,2:]\n",
    "y = iris.target\n",
    "from sklearn.model_selection import train_test_split,cross_val_score\n",
    "X_train, X_test, y_train, y_test = train_test_split(X, y, stratify= y,random_state = 7)\n"
   ]
  },
  {
   "cell_type": "code",
   "execution_count": 3,
   "id": "45843ec5",
   "metadata": {},
   "outputs": [],
   "source": [
    "from sklearn.neighbors import KNeighborsClassifier\n",
    "knn_clf = KNeighborsClassifier()"
   ]
  },
  {
   "cell_type": "code",
   "execution_count": 4,
   "id": "3efec7aa",
   "metadata": {},
   "outputs": [],
   "source": [
    "param_grid = {'n_neighbors': list(range(3,9,1))}"
   ]
  },
  {
   "cell_type": "code",
   "execution_count": 5,
   "id": "d90decb7",
   "metadata": {},
   "outputs": [],
   "source": [
    "from sklearn.model_selection import GridSearchCV\n",
    "gs = GridSearchCV(knn_clf,param_grid,cv=10)"
   ]
  },
  {
   "cell_type": "code",
   "execution_count": 6,
   "id": "a053c2d8",
   "metadata": {},
   "outputs": [
    {
     "data": {
      "text/plain": [
       "GridSearchCV(cv=10, estimator=KNeighborsClassifier(),\n",
       "             param_grid={'n_neighbors': [3, 4, 5, 6, 7, 8]})"
      ]
     },
     "execution_count": 6,
     "metadata": {},
     "output_type": "execute_result"
    }
   ],
   "source": [
    "gs.fit(X_train, y_train)\n"
   ]
  },
  {
   "cell_type": "code",
   "execution_count": 7,
   "id": "c68816b8",
   "metadata": {},
   "outputs": [
    {
     "data": {
      "text/plain": [
       "{'n_neighbors': 3}"
      ]
     },
     "execution_count": 7,
     "metadata": {},
     "output_type": "execute_result"
    }
   ],
   "source": [
    "gs.best_params_"
   ]
  },
  {
   "cell_type": "code",
   "execution_count": 8,
   "id": "567381ff",
   "metadata": {},
   "outputs": [
    {
     "data": {
      "text/plain": [
       "array([0.95530303, 0.93787879, 0.95530303, 0.9469697 , 0.95530303,\n",
       "       0.95530303])"
      ]
     },
     "execution_count": 8,
     "metadata": {},
     "output_type": "execute_result"
    }
   ],
   "source": [
    "gs.cv_results_['mean_test_score']"
   ]
  },
  {
   "cell_type": "code",
   "execution_count": 9,
   "id": "03713e1f",
   "metadata": {},
   "outputs": [
    {
     "data": {
      "text/plain": [
       "<zip at 0x7f9a723bc280>"
      ]
     },
     "execution_count": 9,
     "metadata": {},
     "output_type": "execute_result"
    }
   ],
   "source": [
    "zip(gs.cv_results_['params'],gs.cv_results_['mean_test_score'])\n"
   ]
  },
  {
   "cell_type": "code",
   "execution_count": 11,
   "id": "12ed0b7c",
   "metadata": {},
   "outputs": [
    {
     "data": {
      "text/plain": [
       "[{'n_neighbors': 3},\n",
       " {'n_neighbors': 4},\n",
       " {'n_neighbors': 5},\n",
       " {'n_neighbors': 6},\n",
       " {'n_neighbors': 7},\n",
       " {'n_neighbors': 8}]"
      ]
     },
     "execution_count": 11,
     "metadata": {},
     "output_type": "execute_result"
    }
   ],
   "source": [
    "gs.cv_results_['params']"
   ]
  },
  {
   "cell_type": "code",
   "execution_count": 12,
   "id": "94725817",
   "metadata": {},
   "outputs": [
    {
     "data": {
      "text/plain": [
       "array([0.95530303, 0.93787879, 0.95530303, 0.9469697 , 0.95530303,\n",
       "       0.95530303])"
      ]
     },
     "execution_count": 12,
     "metadata": {},
     "output_type": "execute_result"
    }
   ],
   "source": [
    "gs.cv_results_['mean_test_score']"
   ]
  },
  {
   "cell_type": "code",
   "execution_count": 16,
   "id": "bdcaaeca",
   "metadata": {},
   "outputs": [
    {
     "data": {
      "text/plain": [
       "[(3, 0.9553030303030303),\n",
       " (5, 0.9553030303030303),\n",
       " (7, 0.9553030303030303),\n",
       " (8, 0.9553030303030303),\n",
       " (6, 0.9469696969696969),\n",
       " (4, 0.9378787878787879)]"
      ]
     },
     "execution_count": 16,
     "metadata": {},
     "output_type": "execute_result"
    }
   ],
   "source": [
    "all_scores = []\n",
    "for n_neighbors in range(3,9,1):\n",
    "    knn_clf = KNeighborsClassifier(n_neighbors = n_neighbors)\n",
    "    all_scores.append((n_neighbors, cross_val_score(knn_clf, X_train,y_train, cv=10).mean()))\n",
    "sorted(all_scores, key = lambda x:x[1], reverse = True)"
   ]
  },
  {
   "cell_type": "code",
   "execution_count": null,
   "id": "3f0a6b76",
   "metadata": {},
   "outputs": [],
   "source": []
  }
 ],
 "metadata": {
  "kernelspec": {
   "display_name": "Python 3 (ipykernel)",
   "language": "python",
   "name": "python3"
  },
  "language_info": {
   "codemirror_mode": {
    "name": "ipython",
    "version": 3
   },
   "file_extension": ".py",
   "mimetype": "text/x-python",
   "name": "python",
   "nbconvert_exporter": "python",
   "pygments_lexer": "ipython3",
   "version": "3.8.12"
  }
 },
 "nbformat": 4,
 "nbformat_minor": 5
}
