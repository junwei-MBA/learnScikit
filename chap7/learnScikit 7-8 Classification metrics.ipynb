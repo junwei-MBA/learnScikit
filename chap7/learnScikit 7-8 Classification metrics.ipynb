{
 "cells": [
  {
   "cell_type": "markdown",
   "id": "6fa3c438",
   "metadata": {},
   "source": [
    "# This section cannot be run because it is using data from third party that no longer exists"
   ]
  },
  {
   "cell_type": "code",
   "execution_count": null,
   "id": "1fe297c1",
   "metadata": {},
   "outputs": [],
   "source": []
  }
 ],
 "metadata": {
  "kernelspec": {
   "display_name": "Python 3 (ipykernel)",
   "language": "python",
   "name": "python3"
  },
  "language_info": {
   "codemirror_mode": {
    "name": "ipython",
    "version": 3
   },
   "file_extension": ".py",
   "mimetype": "text/x-python",
   "name": "python",
   "nbconvert_exporter": "python",
   "pygments_lexer": "ipython3",
   "version": "3.8.12"
  }
 },
 "nbformat": 4,
 "nbformat_minor": 5
}
