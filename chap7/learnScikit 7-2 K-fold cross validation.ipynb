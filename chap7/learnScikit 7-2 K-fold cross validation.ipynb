{
 "cells": [
  {
   "cell_type": "code",
   "execution_count": 1,
   "id": "15eb93a9",
   "metadata": {},
   "outputs": [],
   "source": [
    "import numpy as np\n",
    "X = np.array([[1, 2], [3, 4], [5, 6], [7, 8],[1, 2], [3, 4], [5, 6], [7,8]])\n",
    "y = np.array([1, 2, 1, 2, 1, 2, 1, 2])\n"
   ]
  },
  {
   "cell_type": "code",
   "execution_count": 4,
   "id": "b2454bdd",
   "metadata": {},
   "outputs": [
    {
     "data": {
      "text/plain": [
       "KFold(n_splits=4, random_state=None, shuffle=False)"
      ]
     },
     "execution_count": 4,
     "metadata": {},
     "output_type": "execute_result"
    }
   ],
   "source": [
    "from sklearn.model_selection import KFold \n",
    "kf= KFold(n_splits = 4)\n",
    "kf"
   ]
  },
  {
   "cell_type": "code",
   "execution_count": 3,
   "id": "d0a0cd50",
   "metadata": {},
   "outputs": [
    {
     "name": "stdout",
     "output_type": "stream",
     "text": [
      "Round :  1 : \n",
      "Training indices : [2 3 4 5 6 7]\n",
      "Testing indices : [0 1]\n",
      "Round :  2 : \n",
      "Training indices : [0 1 4 5 6 7]\n",
      "Testing indices : [2 3]\n",
      "Round :  3 : \n",
      "Training indices : [0 1 2 3 6 7]\n",
      "Testing indices : [4 5]\n",
      "Round :  4 : \n",
      "Training indices : [0 1 2 3 4 5]\n",
      "Testing indices : [6 7]\n"
     ]
    }
   ],
   "source": [
    "cc = 1\n",
    "for train_index, test_index in kf.split(X):\n",
    "      print (\"Round : \",cc,\": \"),\n",
    "      print (\"Training indices :\", train_index),\n",
    "      print (\"Testing indices :\", test_index)\n",
    "      cc += 1"
   ]
  },
  {
   "cell_type": "code",
   "execution_count": 24,
   "id": "2f4c1b7b",
   "metadata": {},
   "outputs": [
    {
     "data": {
      "text/plain": [
       "array([[1, 2],\n",
       "       [3, 4],\n",
       "       [5, 6],\n",
       "       [7, 8],\n",
       "       [1, 2],\n",
       "       [3, 4],\n",
       "       [5, 6],\n",
       "       [7, 8]])"
      ]
     },
     "execution_count": 24,
     "metadata": {},
     "output_type": "execute_result"
    }
   ],
   "source": [
    "X"
   ]
  },
  {
   "cell_type": "code",
   "execution_count": 16,
   "id": "032e9518",
   "metadata": {},
   "outputs": [
    {
     "data": {
      "text/plain": [
       "4"
      ]
     },
     "execution_count": 16,
     "metadata": {},
     "output_type": "execute_result"
    }
   ],
   "source": [
    "kf.get_n_splits()"
   ]
  },
  {
   "cell_type": "code",
   "execution_count": 17,
   "id": "10243686",
   "metadata": {},
   "outputs": [],
   "source": [
    "indices_list = list(kf.split(X))"
   ]
  },
  {
   "cell_type": "code",
   "execution_count": 19,
   "id": "9b1f6e28",
   "metadata": {},
   "outputs": [
    {
     "data": {
      "text/plain": [
       "[(array([2, 3, 4, 5, 6, 7]), array([0, 1])),\n",
       " (array([0, 1, 4, 5, 6, 7]), array([2, 3])),\n",
       " (array([0, 1, 2, 3, 6, 7]), array([4, 5])),\n",
       " (array([0, 1, 2, 3, 4, 5]), array([6, 7]))]"
      ]
     },
     "execution_count": 19,
     "metadata": {},
     "output_type": "execute_result"
    }
   ],
   "source": [
    "indices_list"
   ]
  },
  {
   "cell_type": "code",
   "execution_count": 22,
   "id": "03fe96c5",
   "metadata": {},
   "outputs": [
    {
     "data": {
      "text/plain": [
       "array([0, 1, 2, 3, 4, 5])"
      ]
     },
     "execution_count": 22,
     "metadata": {},
     "output_type": "execute_result"
    }
   ],
   "source": [
    "train_indices, test_indices = indices_list[3]\n",
    "train_indices"
   ]
  },
  {
   "cell_type": "code",
   "execution_count": 23,
   "id": "a497f96f",
   "metadata": {},
   "outputs": [
    {
     "data": {
      "text/plain": [
       "array([6, 7])"
      ]
     },
     "execution_count": 23,
     "metadata": {},
     "output_type": "execute_result"
    }
   ],
   "source": [
    "test_indices"
   ]
  },
  {
   "cell_type": "code",
   "execution_count": 21,
   "id": "54fae1dd",
   "metadata": {},
   "outputs": [
    {
     "data": {
      "text/plain": [
       "array([[1, 2],\n",
       "       [3, 4],\n",
       "       [5, 6],\n",
       "       [7, 8],\n",
       "       [1, 2],\n",
       "       [3, 4]])"
      ]
     },
     "execution_count": 21,
     "metadata": {},
     "output_type": "execute_result"
    }
   ],
   "source": [
    "X[train_indices]\n"
   ]
  },
  {
   "cell_type": "code",
   "execution_count": 30,
   "id": "c6674047",
   "metadata": {},
   "outputs": [
    {
     "data": {
      "text/plain": [
       "array([1, 2, 1, 2, 1, 2])"
      ]
     },
     "execution_count": 30,
     "metadata": {},
     "output_type": "execute_result"
    }
   ],
   "source": [
    "y[train_indices]"
   ]
  },
  {
   "cell_type": "code",
   "execution_count": 31,
   "id": "22c8d76c",
   "metadata": {},
   "outputs": [
    {
     "data": {
      "text/plain": [
       "array([[5, 6],\n",
       "       [7, 8]])"
      ]
     },
     "execution_count": 31,
     "metadata": {},
     "output_type": "execute_result"
    }
   ],
   "source": [
    "X[test_indices]"
   ]
  },
  {
   "cell_type": "code",
   "execution_count": 32,
   "id": "c70966ef",
   "metadata": {},
   "outputs": [
    {
     "data": {
      "text/plain": [
       "array([1, 2])"
      ]
     },
     "execution_count": 32,
     "metadata": {},
     "output_type": "execute_result"
    }
   ],
   "source": [
    "y[test_indices]"
   ]
  },
  {
   "cell_type": "code",
   "execution_count": null,
   "id": "afc072e9",
   "metadata": {},
   "outputs": [],
   "source": []
  }
 ],
 "metadata": {
  "kernelspec": {
   "display_name": "Python 3 (ipykernel)",
   "language": "python",
   "name": "python3"
  },
  "language_info": {
   "codemirror_mode": {
    "name": "ipython",
    "version": 3
   },
   "file_extension": ".py",
   "mimetype": "text/x-python",
   "name": "python",
   "nbconvert_exporter": "python",
   "pygments_lexer": "ipython3",
   "version": "3.8.12"
  }
 },
 "nbformat": 4,
 "nbformat_minor": 5
}
