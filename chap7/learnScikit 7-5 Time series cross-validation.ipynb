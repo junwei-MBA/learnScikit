{
 "cells": [
  {
   "cell_type": "code",
   "execution_count": 1,
   "id": "c44f5e0c",
   "metadata": {},
   "outputs": [],
   "source": [
    "from sklearn.model_selection import TimeSeriesSplit\n",
    "import numpy as np\n",
    "X = np.array([[1, 2], [3, 4], [1, 2], [3, 4],[1, 2], [3, 4], [1, 2], [3,4]])\n",
    "y = np.array([1, 2, 3, 4, 1, 2, 3, 4])\n"
   ]
  },
  {
   "cell_type": "code",
   "execution_count": 2,
   "id": "a38c14e8",
   "metadata": {},
   "outputs": [],
   "source": [
    "tscv = TimeSeriesSplit(n_splits=7)"
   ]
  },
  {
   "cell_type": "code",
   "execution_count": 3,
   "id": "c74d1234",
   "metadata": {},
   "outputs": [
    {
     "name": "stdout",
     "output_type": "stream",
     "text": [
      "Training indices: [0] Testing indices: [1]\n",
      "Training indices: [0 1] Testing indices: [2]\n",
      "Training indices: [0 1 2] Testing indices: [3]\n",
      "Training indices: [0 1 2 3] Testing indices: [4]\n",
      "Training indices: [0 1 2 3 4] Testing indices: [5]\n",
      "Training indices: [0 1 2 3 4 5] Testing indices: [6]\n",
      "Training indices: [0 1 2 3 4 5 6] Testing indices: [7]\n"
     ]
    }
   ],
   "source": [
    "for train_index, test_index in tscv.split(X):\n",
    "  X_train, X_test = X[train_index], X[test_index]\n",
    "  y_train, y_test = y[train_index], y[test_index]\n",
    "  print (\"Training indices:\", train_index, \"Testing indices:\",test_index)"
   ]
  },
  {
   "cell_type": "code",
   "execution_count": 4,
   "id": "495f9f36",
   "metadata": {},
   "outputs": [],
   "source": [
    "tscv_list = list(tscv.split(X))"
   ]
  },
  {
   "cell_type": "code",
   "execution_count": 5,
   "id": "0a92b8be",
   "metadata": {},
   "outputs": [
    {
     "data": {
      "text/plain": [
       "[(array([0]), array([1])),\n",
       " (array([0, 1]), array([2])),\n",
       " (array([0, 1, 2]), array([3])),\n",
       " (array([0, 1, 2, 3]), array([4])),\n",
       " (array([0, 1, 2, 3, 4]), array([5])),\n",
       " (array([0, 1, 2, 3, 4, 5]), array([6])),\n",
       " (array([0, 1, 2, 3, 4, 5, 6]), array([7]))]"
      ]
     },
     "execution_count": 5,
     "metadata": {},
     "output_type": "execute_result"
    }
   ],
   "source": [
    "tscv_list"
   ]
  },
  {
   "cell_type": "code",
   "execution_count": null,
   "id": "9e567692",
   "metadata": {},
   "outputs": [],
   "source": []
  }
 ],
 "metadata": {
  "kernelspec": {
   "display_name": "Python 3 (ipykernel)",
   "language": "python",
   "name": "python3"
  },
  "language_info": {
   "codemirror_mode": {
    "name": "ipython",
    "version": 3
   },
   "file_extension": ".py",
   "mimetype": "text/x-python",
   "name": "python",
   "nbconvert_exporter": "python",
   "pygments_lexer": "ipython3",
   "version": "3.8.12"
  }
 },
 "nbformat": 4,
 "nbformat_minor": 5
}
