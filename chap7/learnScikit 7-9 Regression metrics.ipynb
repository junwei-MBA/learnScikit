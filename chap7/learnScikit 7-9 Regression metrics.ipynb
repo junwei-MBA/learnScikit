{
 "cells": [
  {
   "cell_type": "code",
   "execution_count": 1,
   "id": "1fe297c1",
   "metadata": {},
   "outputs": [],
   "source": [
    "from sklearn.datasets import load_boston\n",
    "boston = load_boston()\n",
    "X = boston.data\n",
    "y = boston.target\n",
    "from sklearn.model_selection import train_test_split, cross_val_score\n",
    "X_train, X_test, y_train, y_test = train_test_split(X, y, test_size=0.2,\n",
    "random_state=7)"
   ]
  },
  {
   "cell_type": "code",
   "execution_count": 2,
   "id": "b521c60c",
   "metadata": {},
   "outputs": [
    {
     "data": {
      "text/plain": [
       "0.4645790008353553"
      ]
     },
     "execution_count": 2,
     "metadata": {},
     "output_type": "execute_result"
    }
   ],
   "source": [
    "from sklearn.neighbors import KNeighborsRegressor\n",
    "from sklearn.model_selection import RandomizedSearchCV\n",
    "knn_reg = KNeighborsRegressor()\n",
    "param_dist = {'n_neighbors': list(range(3,20,1))}\n",
    "rs = RandomizedSearchCV(knn_reg,param_dist,cv=10,n_iter=17)\n",
    "rs.fit(X_train, y_train)\n",
    "rs.best_score_"
   ]
  },
  {
   "cell_type": "code",
   "execution_count": 4,
   "id": "caf0a742",
   "metadata": {},
   "outputs": [
    {
     "data": {
      "text/plain": [
       "0.7443218509488488"
      ]
     },
     "execution_count": 4,
     "metadata": {},
     "output_type": "execute_result"
    }
   ],
   "source": [
    "from sklearn.linear_model import Ridge\n",
    "cross_val_score(Ridge(),X_train,y_train,cv=10).mean()"
   ]
  },
  {
   "cell_type": "code",
   "execution_count": 6,
   "id": "502ab5aa",
   "metadata": {},
   "outputs": [
    {
     "data": {
      "text/plain": [
       "0.8247955238976935"
      ]
     },
     "execution_count": 6,
     "metadata": {},
     "output_type": "execute_result"
    }
   ],
   "source": [
    "from sklearn.ensemble import GradientBoostingRegressor,RandomForestRegressor\n",
    "cross_val_score(GradientBoostingRegressor(max_depth=7),X_train,y_train,cv=10).mean()\n"
   ]
  },
  {
   "cell_type": "code",
   "execution_count": 7,
   "id": "c704dc1d",
   "metadata": {},
   "outputs": [
    {
     "data": {
      "text/plain": [
       "0.8499789922040811"
      ]
     },
     "execution_count": 7,
     "metadata": {},
     "output_type": "execute_result"
    }
   ],
   "source": [
    "cross_val_score(RandomForestRegressor(),X_train,y_train,cv=10).mean()"
   ]
  },
  {
   "cell_type": "code",
   "execution_count": 8,
   "id": "4eac3fa2",
   "metadata": {},
   "outputs": [
    {
     "data": {
      "text/plain": [
       "RandomizedSearchCV(estimator=GradientBoostingRegressor(), n_iter=5, n_jobs=-1,\n",
       "                   param_distributions={'learning_rate': [0.01],\n",
       "                                        'max_depth': [1, 2, 3, 5, 7],\n",
       "                                        'n_estimators': [4000]})"
      ]
     },
     "execution_count": 8,
     "metadata": {},
     "output_type": "execute_result"
    }
   ],
   "source": [
    "param_dist = {'n_estimators': [4000], 'learning_rate': [0.01],'max_depth':[1,2,3,5,7]}\n",
    "rs_inst_a = RandomizedSearchCV(GradientBoostingRegressor(), param_dist,n_iter = 5, n_jobs=-1)\n",
    "rs_inst_a.fit(X_train, y_train)"
   ]
  },
  {
   "cell_type": "code",
   "execution_count": 9,
   "id": "d6aad3ed",
   "metadata": {},
   "outputs": [
    {
     "data": {
      "text/plain": [
       "{'n_estimators': 4000, 'max_depth': 3, 'learning_rate': 0.01}"
      ]
     },
     "execution_count": 9,
     "metadata": {},
     "output_type": "execute_result"
    }
   ],
   "source": [
    "rs_inst_a.best_params_"
   ]
  },
  {
   "cell_type": "code",
   "execution_count": 10,
   "id": "3428cc7b",
   "metadata": {},
   "outputs": [
    {
     "data": {
      "text/plain": [
       "0.8877668447111124"
      ]
     },
     "execution_count": 10,
     "metadata": {},
     "output_type": "execute_result"
    }
   ],
   "source": [
    "rs_inst_a.best_score_"
   ]
  },
  {
   "cell_type": "code",
   "execution_count": 11,
   "id": "6e0a453a",
   "metadata": {},
   "outputs": [],
   "source": [
    "def mape_score(y_test, y_pred):\n",
    "    return (np.abs(y_test - y_pred)/y_test).mean()"
   ]
  },
  {
   "cell_type": "code",
   "execution_count": 15,
   "id": "c197f62a",
   "metadata": {},
   "outputs": [],
   "source": [
    "from numba import jit\n",
    "@jit\n",
    "def mape_score(y_test, y_pred):\n",
    "      sum_total = 0\n",
    "      y_vec_length = len(y_test)\n",
    "      for index in range(y_vec_length):\n",
    "           sum_total += (1 - (y_pred[index]/y_test[index]))\n",
    "      return sum_total/y_vec_length"
   ]
  },
  {
   "cell_type": "code",
   "execution_count": 16,
   "id": "a21eab9a",
   "metadata": {},
   "outputs": [],
   "source": [
    "from sklearn.metrics import make_scorer\n",
    "mape_scorer = make_scorer(mape_score, greater_is_better=False)\n"
   ]
  },
  {
   "cell_type": "code",
   "execution_count": 17,
   "id": "1edccce8",
   "metadata": {},
   "outputs": [
    {
     "data": {
      "text/plain": [
       "0.0283660938295019"
      ]
     },
     "execution_count": 17,
     "metadata": {},
     "output_type": "execute_result"
    }
   ],
   "source": [
    "param_dist = {'n_estimators': [4000], 'learning_rate': [0.01],'max_depth':[1,2,3,4,5]}\n",
    "rs_inst_b = RandomizedSearchCV(GradientBoostingRegressor(),param_dist, n_iter = 3, n_jobs=-1,scoring = mape_scorer)\n",
    "rs_inst_b.fit(X_train, y_train)\n",
    "rs_inst_b.best_score_"
   ]
  },
  {
   "cell_type": "code",
   "execution_count": 18,
   "id": "13b44efb",
   "metadata": {},
   "outputs": [
    {
     "data": {
      "text/plain": [
       "{'n_estimators': 4000, 'max_depth': 1, 'learning_rate': 0.01}"
      ]
     },
     "execution_count": 18,
     "metadata": {},
     "output_type": "execute_result"
    }
   ],
   "source": [
    "rs_inst_b.best_params_"
   ]
  },
  {
   "cell_type": "code",
   "execution_count": null,
   "id": "a3080e2c",
   "metadata": {},
   "outputs": [],
   "source": []
  }
 ],
 "metadata": {
  "kernelspec": {
   "display_name": "Python 3 (ipykernel)",
   "language": "python",
   "name": "python3"
  },
  "language_info": {
   "codemirror_mode": {
    "name": "ipython",
    "version": 3
   },
   "file_extension": ".py",
   "mimetype": "text/x-python",
   "name": "python",
   "nbconvert_exporter": "python",
   "pygments_lexer": "ipython3",
   "version": "3.8.12"
  }
 },
 "nbformat": 4,
 "nbformat_minor": 5
}
