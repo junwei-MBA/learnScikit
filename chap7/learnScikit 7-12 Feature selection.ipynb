{
 "cells": [
  {
   "cell_type": "code",
   "execution_count": 1,
   "id": "258b9ebd",
   "metadata": {},
   "outputs": [],
   "source": [
    "from sklearn import datasets\n",
    "X, y = datasets.make_regression(1000, 10000)"
   ]
  },
  {
   "cell_type": "code",
   "execution_count": 2,
   "id": "30d046fa",
   "metadata": {},
   "outputs": [],
   "source": [
    "from sklearn import feature_selection\n",
    "f, p = feature_selection.f_regression(X, y)"
   ]
  },
  {
   "cell_type": "code",
   "execution_count": 3,
   "id": "fc2f3621",
   "metadata": {},
   "outputs": [
    {
     "data": {
      "text/plain": [
       "array([0.11206695, 0.13123075, 2.34998206, 0.1134374 , 0.04788592])"
      ]
     },
     "execution_count": 3,
     "metadata": {},
     "output_type": "execute_result"
    }
   ],
   "source": [
    "f[:5]"
   ]
  },
  {
   "cell_type": "code",
   "execution_count": 4,
   "id": "19696ab4",
   "metadata": {},
   "outputs": [
    {
     "data": {
      "text/plain": [
       "array([0.73787345, 0.71723604, 0.12560137, 0.73633495, 0.82682837])"
      ]
     },
     "execution_count": 4,
     "metadata": {},
     "output_type": "execute_result"
    }
   ],
   "source": [
    "p[:5]"
   ]
  },
  {
   "cell_type": "code",
   "execution_count": 5,
   "id": "49e30076",
   "metadata": {},
   "outputs": [
    {
     "data": {
      "text/plain": [
       "522"
      ]
     },
     "execution_count": 5,
     "metadata": {},
     "output_type": "execute_result"
    }
   ],
   "source": [
    "import numpy as np\n",
    "idx = np.arange(0, X.shape[1])\n",
    "features_to_keep = idx[p < .05]\n",
    "len(features_to_keep)\n"
   ]
  },
  {
   "cell_type": "code",
   "execution_count": 7,
   "id": "153b505c",
   "metadata": {},
   "outputs": [
    {
     "data": {
      "text/plain": [
       "(1000, 4934)"
      ]
     },
     "execution_count": 7,
     "metadata": {},
     "output_type": "execute_result"
    }
   ],
   "source": [
    "var_threshold =feature_selection.VarianceThreshold(np.median(np.var(X, axis=1)))\n",
    "var_threshold.fit_transform(X).shape"
   ]
  },
  {
   "cell_type": "markdown",
   "id": "7d013ec2",
   "metadata": {},
   "source": [
    "### Let's look at a smaller problem and visualize how feature selection will eliminate certain features. We'll use the same scoring function from the first example, but just 20 features:"
   ]
  },
  {
   "cell_type": "code",
   "execution_count": 8,
   "id": "ab41012d",
   "metadata": {},
   "outputs": [],
   "source": [
    "X, y = datasets.make_regression(10000, 20)\n",
    "f, p = feature_selection.f_regression(X, y)"
   ]
  },
  {
   "cell_type": "code",
   "execution_count": 9,
   "id": "265a71be",
   "metadata": {},
   "outputs": [
    {
     "data": {
      "text/plain": [
       "Text(0.5, 1.0, 'Feature p values')"
      ]
     },
     "execution_count": 9,
     "metadata": {},
     "output_type": "execute_result"
    },
    {
     "data": {
      "image/png": "[encoded data removed]",
      "text/plain": [
       "<Figure size 504x360 with 1 Axes>"
      ]
     },
     "metadata": {
      "needs_background": "light"
     },
     "output_type": "display_data"
    }
   ],
   "source": [
    "%matplotlib inline\n",
    "from matplotlib import pyplot as plt\n",
    "f, ax = plt.subplots(figsize=(7, 5))\n",
    "ax.bar(np.arange(20), p, color='k')\n",
    "ax.set_title(\"Feature p values\")"
   ]
  },
  {
   "cell_type": "code",
   "execution_count": 10,
   "id": "e25ccfdf",
   "metadata": {},
   "outputs": [
    {
     "data": {
      "text/plain": [
       "array([1.71571129e-116, 1.23516206e-311, 4.32680850e-001, 3.20249988e-001,\n",
       "       9.80677536e-001, 0.00000000e+000, 6.88987795e-001, 0.00000000e+000,\n",
       "       6.53343904e-002, 9.38035858e-009, 3.55162834e-001, 3.79845358e-173,\n",
       "       1.35316497e-001, 7.90035445e-023, 1.24832758e-027, 5.51480558e-001,\n",
       "       7.24178924e-001, 3.48499085e-319, 2.46973745e-002, 0.00000000e+000])"
      ]
     },
     "execution_count": 10,
     "metadata": {},
     "output_type": "execute_result"
    }
   ],
   "source": [
    "p"
   ]
  },
  {
   "cell_type": "code",
   "execution_count": null,
   "id": "e02f4c35",
   "metadata": {},
   "outputs": [],
   "source": []
  }
 ],
 "metadata": {
  "kernelspec": {
   "display_name": "Python 3 (ipykernel)",
   "language": "python",
   "name": "python3"
  },
  "language_info": {
   "codemirror_mode": {
    "name": "ipython",
    "version": 3
   },
   "file_extension": ".py",
   "mimetype": "text/x-python",
   "name": "python",
   "nbconvert_exporter": "python",
   "pygments_lexer": "ipython3",
   "version": "3.8.12"
  }
 },
 "nbformat": 4,
 "nbformat_minor": 5
}
