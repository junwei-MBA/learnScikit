{
 "cells": [
  {
   "cell_type": "code",
   "execution_count": 1,
   "id": "226567a0",
   "metadata": {},
   "outputs": [],
   "source": [
    "from sklearn import datasets\n",
    "iris = datasets.load_iris()\n",
    "X = iris.data[:,2:]\n",
    "y = iris.target\n",
    "from sklearn.model_selection import train_test_split\n",
    "X_train, X_test, y_train, y_test = train_test_split(X, y, stratify =\n",
    "y,random_state = 7)"
   ]
  },
  {
   "cell_type": "code",
   "execution_count": 2,
   "id": "c5b11628",
   "metadata": {},
   "outputs": [],
   "source": [
    "from sklearn.neighbors import KNeighborsClassifier\n",
    "knn_clf = KNeighborsClassifier()"
   ]
  },
  {
   "cell_type": "code",
   "execution_count": 3,
   "id": "9014fba3",
   "metadata": {},
   "outputs": [],
   "source": [
    "param_dist = {'n_neighbors': list(range(3,9,1))}"
   ]
  },
  {
   "cell_type": "code",
   "execution_count": 4,
   "id": "5b00b2cd",
   "metadata": {},
   "outputs": [],
   "source": [
    "from sklearn.model_selection import RandomizedSearchCV\n",
    "rs = RandomizedSearchCV(knn_clf,param_dist,cv=10,n_iter=6)"
   ]
  },
  {
   "cell_type": "code",
   "execution_count": 5,
   "id": "08e57003",
   "metadata": {},
   "outputs": [
    {
     "data": {
      "text/plain": [
       "RandomizedSearchCV(cv=10, estimator=KNeighborsClassifier(), n_iter=6,\n",
       "                   param_distributions={'n_neighbors': [3, 4, 5, 6, 7, 8]})"
      ]
     },
     "execution_count": 5,
     "metadata": {},
     "output_type": "execute_result"
    }
   ],
   "source": [
    "rs.fit(X_train, y_train)\n"
   ]
  },
  {
   "cell_type": "code",
   "execution_count": 6,
   "id": "8de2295a",
   "metadata": {},
   "outputs": [
    {
     "data": {
      "text/plain": [
       "{'n_neighbors': 3}"
      ]
     },
     "execution_count": 6,
     "metadata": {},
     "output_type": "execute_result"
    }
   ],
   "source": [
    "rs.best_params_"
   ]
  },
  {
   "cell_type": "code",
   "execution_count": 10,
   "id": "1553985e",
   "metadata": {},
   "outputs": [],
   "source": [
    "res=zip(rs.cv_results_['params'],rs.cv_results_['mean_test_score'])"
   ]
  },
  {
   "cell_type": "code",
   "execution_count": 13,
   "id": "896a155d",
   "metadata": {},
   "outputs": [
    {
     "name": "stdout",
     "output_type": "stream",
     "text": [
      "(({'n_neighbors': 3}, 0.9553030303030303), ({'n_neighbors': 4}, 0.9378787878787879), ({'n_neighbors': 5}, 0.9553030303030303), ({'n_neighbors': 6}, 0.9469696969696969), ({'n_neighbors': 7}, 0.9553030303030303), ({'n_neighbors': 8}, 0.9553030303030303))\n"
     ]
    }
   ],
   "source": [
    "print(tuple(res))"
   ]
  },
  {
   "cell_type": "code",
   "execution_count": 16,
   "id": "6a9b174b",
   "metadata": {},
   "outputs": [
    {
     "data": {
      "text/plain": [
       "{'n_neighbors': 12}"
      ]
     },
     "execution_count": 16,
     "metadata": {},
     "output_type": "execute_result"
    }
   ],
   "source": [
    "param_dist = {'n_neighbors': list(range(3,50,1))}\n",
    "rs = RandomizedSearchCV(knn_clf,param_dist,cv=10,n_iter=15)\n",
    "rs.fit(X_train,y_train)\n",
    "rs.best_params_\n"
   ]
  },
  {
   "cell_type": "code",
   "execution_count": 17,
   "id": "697d1df4",
   "metadata": {},
   "outputs": [
    {
     "name": "stdout",
     "output_type": "stream",
     "text": [
      "388 ms ± 88.4 ms per loop (mean ± std. dev. of 7 runs, 1 loop each)\n"
     ]
    }
   ],
   "source": [
    "%timeit rs.fit(X_train,y_train)"
   ]
  },
  {
   "cell_type": "code",
   "execution_count": 20,
   "id": "4cb9ee0e",
   "metadata": {},
   "outputs": [
    {
     "name": "stdout",
     "output_type": "stream",
     "text": [
      "1.05 s ± 85.3 ms per loop (mean ± std. dev. of 7 runs, 1 loop each)\n"
     ]
    }
   ],
   "source": [
    "from sklearn.model_selection import GridSearchCV\n",
    "param_grid = {'n_neighbors': list(range(3,50,1))}\n",
    "gs = GridSearchCV(knn_clf,param_grid,cv=10)\n",
    "%timeit gs.fit(X_train,y_train)\n",
    "\n"
   ]
  },
  {
   "cell_type": "code",
   "execution_count": 21,
   "id": "00b09819",
   "metadata": {},
   "outputs": [
    {
     "data": {
      "text/plain": [
       "{'n_neighbors': 11}"
      ]
     },
     "execution_count": 21,
     "metadata": {},
     "output_type": "execute_result"
    }
   ],
   "source": [
    "gs.best_params_"
   ]
  },
  {
   "cell_type": "code",
   "execution_count": 23,
   "id": "f812d064",
   "metadata": {},
   "outputs": [
    {
     "name": "stdout",
     "output_type": "stream",
     "text": [
      "(({'n_neighbors': 3}, 0.9553030303030303), ({'n_neighbors': 4}, 0.9378787878787879), ({'n_neighbors': 5}, 0.9553030303030303), ({'n_neighbors': 6}, 0.9469696969696969), ({'n_neighbors': 7}, 0.9553030303030303), ({'n_neighbors': 8}, 0.9553030303030303), ({'n_neighbors': 9}, 0.9553030303030303), ({'n_neighbors': 10}, 0.9462121212121211), ({'n_neighbors': 11}, 0.9643939393939395), ({'n_neighbors': 12}, 0.9643939393939395), ({'n_neighbors': 13}, 0.9643939393939395), ({'n_neighbors': 14}, 0.9643939393939395), ({'n_neighbors': 15}, 0.9643939393939395), ({'n_neighbors': 16}, 0.9553030303030303), ({'n_neighbors': 17}, 0.9469696969696969), ({'n_neighbors': 18}, 0.9462121212121211), ({'n_neighbors': 19}, 0.9378787878787879), ({'n_neighbors': 20}, 0.9462121212121211), ({'n_neighbors': 21}, 0.9462121212121211), ({'n_neighbors': 22}, 0.9462121212121211), ({'n_neighbors': 23}, 0.9553030303030303), ({'n_neighbors': 24}, 0.9462121212121211), ({'n_neighbors': 25}, 0.9462121212121211), ({'n_neighbors': 26}, 0.9462121212121211), ({'n_neighbors': 27}, 0.9553030303030303), ({'n_neighbors': 28}, 0.9462121212121211), ({'n_neighbors': 29}, 0.9378787878787879), ({'n_neighbors': 30}, 0.9462121212121211), ({'n_neighbors': 31}, 0.9371212121212121), ({'n_neighbors': 32}, 0.9462121212121211), ({'n_neighbors': 33}, 0.9371212121212121), ({'n_neighbors': 34}, 0.9462121212121211), ({'n_neighbors': 35}, 0.9462121212121211), ({'n_neighbors': 36}, 0.9462121212121211), ({'n_neighbors': 37}, 0.9553030303030303), ({'n_neighbors': 38}, 0.9462121212121211), ({'n_neighbors': 39}, 0.9462121212121211), ({'n_neighbors': 40}, 0.9553030303030303), ({'n_neighbors': 41}, 0.9462121212121211), ({'n_neighbors': 42}, 0.9553030303030303), ({'n_neighbors': 43}, 0.9462121212121211), ({'n_neighbors': 44}, 0.9462121212121211), ({'n_neighbors': 45}, 0.9462121212121211), ({'n_neighbors': 46}, 0.9462121212121211), ({'n_neighbors': 47}, 0.9462121212121211), ({'n_neighbors': 48}, 0.9462121212121211), ({'n_neighbors': 49}, 0.9462121212121211))\n"
     ]
    }
   ],
   "source": [
    "res2=zip(gs.cv_results_['params'],gs.cv_results_['mean_test_score'])\n",
    "print(tuple(res2))"
   ]
  },
  {
   "cell_type": "code",
   "execution_count": null,
   "id": "73ea57bc",
   "metadata": {},
   "outputs": [],
   "source": []
  }
 ],
 "metadata": {
  "kernelspec": {
   "display_name": "Python 3 (ipykernel)",
   "language": "python",
   "name": "python3"
  },
  "language_info": {
   "codemirror_mode": {
    "name": "ipython",
    "version": 3
   },
   "file_extension": ".py",
   "mimetype": "text/x-python",
   "name": "python",
   "nbconvert_exporter": "python",
   "pygments_lexer": "ipython3",
   "version": "3.8.12"
  }
 },
 "nbformat": 4,
 "nbformat_minor": 5
}
