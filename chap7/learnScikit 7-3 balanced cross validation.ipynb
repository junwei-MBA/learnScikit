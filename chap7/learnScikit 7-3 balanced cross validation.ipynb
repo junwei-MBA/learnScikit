{
 "cells": [
  {
   "cell_type": "code",
   "execution_count": 1,
   "id": "4eb9a3a4",
   "metadata": {},
   "outputs": [],
   "source": [
    "import numpy as np\n",
    "X = np.array([[1, 2], [3, 4], [5, 6], [7, 8],[1, 2], [3, 4], [5, 6], [7,\n",
    "8]])\n",
    "y = np.array([1, 1, 1, 1, 2, 2, 2, 2])"
   ]
  },
  {
   "cell_type": "code",
   "execution_count": 2,
   "id": "031cac58",
   "metadata": {},
   "outputs": [],
   "source": [
    "from sklearn.model_selection import StratifiedKFold\n",
    "skf = StratifiedKFold(n_splits = 4)\n"
   ]
  },
  {
   "cell_type": "code",
   "execution_count": 3,
   "id": "bb1dfea3",
   "metadata": {},
   "outputs": [
    {
     "name": "stdout",
     "output_type": "stream",
     "text": [
      "Round 1 :\n",
      "Training indices : [1 2 3 5 6 7]\n",
      "Testing indices : [0 4]\n",
      "Round 2 :\n",
      "Training indices : [0 2 3 4 6 7]\n",
      "Testing indices : [1 5]\n",
      "Round 3 :\n",
      "Training indices : [0 1 3 4 5 7]\n",
      "Testing indices : [2 6]\n",
      "Round 4 :\n",
      "Training indices : [0 1 2 4 5 6]\n",
      "Testing indices : [3 7]\n"
     ]
    }
   ],
   "source": [
    "cc = 1\n",
    "for train_index, test_index in skf.split(X,y):\n",
    "    print (\"Round\",cc,\":\"),\n",
    "    print (\"Training indices :\", train_index),\n",
    "    print (\"Testing indices :\", test_index)\n",
    "    cc += 1"
   ]
  },
  {
   "cell_type": "code",
   "execution_count": 6,
   "id": "6ea11196",
   "metadata": {},
   "outputs": [
    {
     "name": "stdout",
     "output_type": "stream",
     "text": [
      "Round 1 :\n",
      "Training indices : [2 5 0 7 6 3]\n",
      "Testing indices : [1 4]\n",
      "Round 2 :\n",
      "Training indices : [6 3 7 5 0 2]\n",
      "Testing indices : [4 1]\n",
      "Round 3 :\n",
      "Training indices : [1 7 5 3 4 2]\n",
      "Testing indices : [6 0]\n",
      "Round 4 :\n",
      "Training indices : [3 6 0 4 5 2]\n",
      "Testing indices : [1 7]\n",
      "Round 5 :\n",
      "Training indices : [0 3 2 7 6 5]\n",
      "Testing indices : [4 1]\n"
     ]
    }
   ],
   "source": [
    "from sklearn.model_selection import StratifiedShuffleSplit\n",
    "sss = StratifiedShuffleSplit(n_splits = 5,test_size=0.25)\n",
    "cc = 1\n",
    "for train_index, test_index in sss.split(X,y):\n",
    "    print (\"Round\",cc,\":\"),\n",
    "    print (\"Training indices :\", train_index),\n",
    "    print (\"Testing indices :\", test_index)\n",
    "    cc += 1"
   ]
  },
  {
   "cell_type": "code",
   "execution_count": null,
   "id": "9ff83c7a",
   "metadata": {},
   "outputs": [],
   "source": []
  }
 ],
 "metadata": {
  "kernelspec": {
   "display_name": "Python 3 (ipykernel)",
   "language": "python",
   "name": "python3"
  },
  "language_info": {
   "codemirror_mode": {
    "name": "ipython",
    "version": 3
   },
   "file_extension": ".py",
   "mimetype": "text/x-python",
   "name": "python",
   "nbconvert_exporter": "python",
   "pygments_lexer": "ipython3",
   "version": "3.8.12"
  }
 },
 "nbformat": 4,
 "nbformat_minor": 5
}
