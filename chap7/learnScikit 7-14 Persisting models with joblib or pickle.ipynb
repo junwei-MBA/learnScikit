{
 "cells": [
  {
   "cell_type": "code",
   "execution_count": 1,
   "id": "8654d07d",
   "metadata": {},
   "outputs": [],
   "source": [
    "from sklearn.datasets import make_classification\n",
    "from sklearn.tree import DecisionTreeClassifier"
   ]
  },
  {
   "cell_type": "code",
   "execution_count": 2,
   "id": "4e3f0c3d",
   "metadata": {},
   "outputs": [
    {
     "data": {
      "text/plain": [
       "DecisionTreeClassifier()"
      ]
     },
     "execution_count": 2,
     "metadata": {},
     "output_type": "execute_result"
    }
   ],
   "source": [
    "X, y = make_classification()\n",
    "dt = DecisionTreeClassifier()\n",
    "dt.fit(X, y)\n"
   ]
  },
  {
   "cell_type": "code",
   "execution_count": 4,
   "id": "9b35071b",
   "metadata": {},
   "outputs": [
    {
     "data": {
      "text/plain": [
       "['dtree.clf']"
      ]
     },
     "execution_count": 4,
     "metadata": {},
     "output_type": "execute_result"
    }
   ],
   "source": [
    "import joblib\n",
    "joblib.dump(dt, \"dtree.clf\")"
   ]
  },
  {
   "cell_type": "code",
   "execution_count": 5,
   "id": "b7eb7d7f",
   "metadata": {},
   "outputs": [],
   "source": [
    "import joblib\n",
    "pulled_model = joblib.load(\"dtree.clf\")\n",
    "y_pred = pulled_model.predict(X)"
   ]
  },
  {
   "cell_type": "code",
   "execution_count": 6,
   "id": "dd8239ed",
   "metadata": {},
   "outputs": [],
   "source": [
    "#here is another method\n",
    "import pickle\n",
    "f = open(\"dtree.save\", 'wb')\n",
    "pickle.dump(dt,f, protocol = pickle.HIGHEST_PROTOCOL)\n",
    "f.close()"
   ]
  },
  {
   "cell_type": "code",
   "execution_count": 7,
   "id": "563c38c5",
   "metadata": {},
   "outputs": [],
   "source": [
    "f = open(\"dtree.save\", 'rb')\n",
    "return_tree = pickle.load(f)\n",
    "f.close()"
   ]
  },
  {
   "cell_type": "code",
   "execution_count": 8,
   "id": "3cafd4cf",
   "metadata": {},
   "outputs": [
    {
     "data": {
      "text/plain": [
       "DecisionTreeClassifier()"
      ]
     },
     "execution_count": 8,
     "metadata": {},
     "output_type": "execute_result"
    }
   ],
   "source": [
    "return_tree"
   ]
  },
  {
   "cell_type": "code",
   "execution_count": null,
   "id": "c2a6f1eb",
   "metadata": {},
   "outputs": [],
   "source": []
  }
 ],
 "metadata": {
  "kernelspec": {
   "display_name": "Python 3 (ipykernel)",
   "language": "python",
   "name": "python3"
  },
  "language_info": {
   "codemirror_mode": {
    "name": "ipython",
    "version": 3
   },
   "file_extension": ".py",
   "mimetype": "text/x-python",
   "name": "python",
   "nbconvert_exporter": "python",
   "pygments_lexer": "ipython3",
   "version": "3.8.12"
  }
 },
 "nbformat": 4,
 "nbformat_minor": 5
}
